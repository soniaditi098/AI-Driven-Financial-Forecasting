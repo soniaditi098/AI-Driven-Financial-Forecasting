{
  "nbformat": 4,
  "nbformat_minor": 0,
  "metadata": {
    "colab": {
      "provenance": []
    },
    "kernelspec": {
      "name": "python3",
      "display_name": "Python 3"
    },
    "language_info": {
      "name": "python"
    }
  },
  "cells": [
    {
      "cell_type": "code",
      "execution_count": null,
      "metadata": {
        "id": "jAkmssEC2SBX"
      },
      "outputs": [],
      "source": [
        "import pandas as pd\n",
        "import matplotlib as mpl\n",
        "from matplotlib import pyplot as plt\n",
        "from sklearn.model_selection import train_test_split\n",
        "from keras.preprocessing.sequence import TimeseriesGenerator\n",
        "from sklearn.preprocessing import MinMaxScaler, StandardScaler\n",
        "import tensorflow as tf\n",
        "\n",
        "#from datetime import datetime"
      ]
    },
    {
      "cell_type": "code",
      "source": [
        "from google.colab import drive\n",
        "drive.mount('/content/drive')\n"
      ],
      "metadata": {
        "colab": {
          "base_uri": "https://localhost:8080/"
        },
        "id": "2TH_wuwN5vZN",
        "outputId": "6673f040-8e1d-4057-d79b-a1ed4f4b400c"
      },
      "execution_count": null,
      "outputs": [
        {
          "output_type": "stream",
          "name": "stdout",
          "text": [
            "Mounted at /content/drive\n"
          ]
        }
      ]
    },
    {
      "cell_type": "code",
      "source": [
        "#Read the csv file\n",
        "df = pd.read_csv('/content/drive/MyDrive/GE.csv')\n",
        "print(df.head()) #7 columns, including the Date.\n",
        "print(len(df))"
      ],
      "metadata": {
        "colab": {
          "base_uri": "https://localhost:8080/"
        },
        "id": "aFUqH_Ou2f7k",
        "outputId": "9cbcf50f-5b1c-42b2-8842-378928563d79"
      },
      "execution_count": null,
      "outputs": [
        {
          "output_type": "stream",
          "name": "stdout",
          "text": [
            "         Date       Open       High        Low      Close  Adj Close   Volume\n",
            "0  2023-05-01  79.401436  81.404633  79.305664  80.750198  80.396339  7408237\n",
            "1  2023-05-02  80.295288  81.428574  79.960098  81.013565  80.658554  7485046\n",
            "2  2023-05-03  81.308861  82.162811  80.853951  81.221069  80.865158  5917543\n",
            "3  2023-05-04  80.997604  81.205109  77.741425  79.265762  78.918419  9055431\n",
            "4  2023-05-05  80.271347  81.213089  79.608940  80.000000  79.649429  6302841\n",
            "252\n"
          ]
        }
      ]
    },
    {
      "cell_type": "code",
      "source": [
        "#Separate dates for future plotting\n",
        "df['Date'] = pd.to_datetime(df['Date'], infer_datetime_format=True)\n",
        "print(df['Date'].tail(15)) #Check last few dates."
      ],
      "metadata": {
        "colab": {
          "base_uri": "https://localhost:8080/"
        },
        "id": "bnC0aBLC2jHe",
        "outputId": "6e6928b9-ad90-4e8c-e686-c38be31230bc"
      },
      "execution_count": null,
      "outputs": [
        {
          "output_type": "stream",
          "name": "stdout",
          "text": [
            "237   2024-04-10\n",
            "238   2024-04-11\n",
            "239   2024-04-12\n",
            "240   2024-04-15\n",
            "241   2024-04-16\n",
            "242   2024-04-17\n",
            "243   2024-04-18\n",
            "244   2024-04-19\n",
            "245   2024-04-22\n",
            "246   2024-04-23\n",
            "247   2024-04-24\n",
            "248   2024-04-25\n",
            "249   2024-04-26\n",
            "250   2024-04-29\n",
            "251   2024-04-30\n",
            "Name: Date, dtype: datetime64[ns]\n"
          ]
        },
        {
          "output_type": "stream",
          "name": "stderr",
          "text": [
            "<ipython-input-4-fb910e6c8daa>:2: UserWarning: The argument 'infer_datetime_format' is deprecated and will be removed in a future version. A strict version of it is now the default, see https://pandas.pydata.org/pdeps/0004-consistent-to-datetime-parsing.html. You can safely remove this argument.\n",
            "  df['Date'] = pd.to_datetime(df['Date'], infer_datetime_format=True)\n"
          ]
        }
      ]
    },
    {
      "cell_type": "code",
      "source": [
        "df_input=df[['Open', 'High', 'Low', 'Close', 'Adj Close']]"
      ],
      "metadata": {
        "id": "h4wOw_MQvfSj"
      },
      "execution_count": null,
      "outputs": []
    },
    {
      "cell_type": "code",
      "source": [
        "df_input.describe()\n"
      ],
      "metadata": {
        "colab": {
          "base_uri": "https://localhost:8080/",
          "height": 300
        },
        "id": "Jl10Z6DV6MVj",
        "outputId": "869c105b-e3b2-40c5-db00-52b82ae24c76"
      },
      "execution_count": null,
      "outputs": [
        {
          "output_type": "execute_result",
          "data": {
            "text/plain": [
              "             Open        High         Low       Close   Adj Close\n",
              "count  252.000000  252.000000  252.000000  252.000000  252.000000\n",
              "mean   101.522247  102.731026  100.545529  101.732871  101.475118\n",
              "std     21.811776   22.392696   21.355667   21.986586   22.043834\n",
              "min     79.122108   79.792496   77.741425   78.850761   78.505234\n",
              "25%     87.354351   88.501596   86.270947   87.661614   87.369942\n",
              "50%     91.516362   92.458099   90.885875   91.719876   91.402580\n",
              "75%    105.241418  107.204710  104.904232  105.983640  105.795439\n",
              "max    163.559998  166.259995  163.000000  164.490005  164.490005"
            ],
            "text/html": [
              "\n",
              "  <div id=\"df-8cb41bfb-9b87-4c6f-b578-6c5b07c4ca5e\" class=\"colab-df-container\">\n",
              "    <div>\n",
              "<style scoped>\n",
              "    .dataframe tbody tr th:only-of-type {\n",
              "        vertical-align: middle;\n",
              "    }\n",
              "\n",
              "    .dataframe tbody tr th {\n",
              "        vertical-align: top;\n",
              "    }\n",
              "\n",
              "    .dataframe thead th {\n",
              "        text-align: right;\n",
              "    }\n",
              "</style>\n",
              "<table border=\"1\" class=\"dataframe\">\n",
              "  <thead>\n",
              "    <tr style=\"text-align: right;\">\n",
              "      <th></th>\n",
              "      <th>Open</th>\n",
              "      <th>High</th>\n",
              "      <th>Low</th>\n",
              "      <th>Close</th>\n",
              "      <th>Adj Close</th>\n",
              "    </tr>\n",
              "  </thead>\n",
              "  <tbody>\n",
              "    <tr>\n",
              "      <th>count</th>\n",
              "      <td>252.000000</td>\n",
              "      <td>252.000000</td>\n",
              "      <td>252.000000</td>\n",
              "      <td>252.000000</td>\n",
              "      <td>252.000000</td>\n",
              "    </tr>\n",
              "    <tr>\n",
              "      <th>mean</th>\n",
              "      <td>101.522247</td>\n",
              "      <td>102.731026</td>\n",
              "      <td>100.545529</td>\n",
              "      <td>101.732871</td>\n",
              "      <td>101.475118</td>\n",
              "    </tr>\n",
              "    <tr>\n",
              "      <th>std</th>\n",
              "      <td>21.811776</td>\n",
              "      <td>22.392696</td>\n",
              "      <td>21.355667</td>\n",
              "      <td>21.986586</td>\n",
              "      <td>22.043834</td>\n",
              "    </tr>\n",
              "    <tr>\n",
              "      <th>min</th>\n",
              "      <td>79.122108</td>\n",
              "      <td>79.792496</td>\n",
              "      <td>77.741425</td>\n",
              "      <td>78.850761</td>\n",
              "      <td>78.505234</td>\n",
              "    </tr>\n",
              "    <tr>\n",
              "      <th>25%</th>\n",
              "      <td>87.354351</td>\n",
              "      <td>88.501596</td>\n",
              "      <td>86.270947</td>\n",
              "      <td>87.661614</td>\n",
              "      <td>87.369942</td>\n",
              "    </tr>\n",
              "    <tr>\n",
              "      <th>50%</th>\n",
              "      <td>91.516362</td>\n",
              "      <td>92.458099</td>\n",
              "      <td>90.885875</td>\n",
              "      <td>91.719876</td>\n",
              "      <td>91.402580</td>\n",
              "    </tr>\n",
              "    <tr>\n",
              "      <th>75%</th>\n",
              "      <td>105.241418</td>\n",
              "      <td>107.204710</td>\n",
              "      <td>104.904232</td>\n",
              "      <td>105.983640</td>\n",
              "      <td>105.795439</td>\n",
              "    </tr>\n",
              "    <tr>\n",
              "      <th>max</th>\n",
              "      <td>163.559998</td>\n",
              "      <td>166.259995</td>\n",
              "      <td>163.000000</td>\n",
              "      <td>164.490005</td>\n",
              "      <td>164.490005</td>\n",
              "    </tr>\n",
              "  </tbody>\n",
              "</table>\n",
              "</div>\n",
              "    <div class=\"colab-df-buttons\">\n",
              "\n",
              "  <div class=\"colab-df-container\">\n",
              "    <button class=\"colab-df-convert\" onclick=\"convertToInteractive('df-8cb41bfb-9b87-4c6f-b578-6c5b07c4ca5e')\"\n",
              "            title=\"Convert this dataframe to an interactive table.\"\n",
              "            style=\"display:none;\">\n",
              "\n",
              "  <svg xmlns=\"http://www.w3.org/2000/svg\" height=\"24px\" viewBox=\"0 -960 960 960\">\n",
              "    <path d=\"M120-120v-720h720v720H120Zm60-500h600v-160H180v160Zm220 220h160v-160H400v160Zm0 220h160v-160H400v160ZM180-400h160v-160H180v160Zm440 0h160v-160H620v160ZM180-180h160v-160H180v160Zm440 0h160v-160H620v160Z\"/>\n",
              "  </svg>\n",
              "    </button>\n",
              "\n",
              "  <style>\n",
              "    .colab-df-container {\n",
              "      display:flex;\n",
              "      gap: 12px;\n",
              "    }\n",
              "\n",
              "    .colab-df-convert {\n",
              "      background-color: #E8F0FE;\n",
              "      border: none;\n",
              "      border-radius: 50%;\n",
              "      cursor: pointer;\n",
              "      display: none;\n",
              "      fill: #1967D2;\n",
              "      height: 32px;\n",
              "      padding: 0 0 0 0;\n",
              "      width: 32px;\n",
              "    }\n",
              "\n",
              "    .colab-df-convert:hover {\n",
              "      background-color: #E2EBFA;\n",
              "      box-shadow: 0px 1px 2px rgba(60, 64, 67, 0.3), 0px 1px 3px 1px rgba(60, 64, 67, 0.15);\n",
              "      fill: #174EA6;\n",
              "    }\n",
              "\n",
              "    .colab-df-buttons div {\n",
              "      margin-bottom: 4px;\n",
              "    }\n",
              "\n",
              "    [theme=dark] .colab-df-convert {\n",
              "      background-color: #3B4455;\n",
              "      fill: #D2E3FC;\n",
              "    }\n",
              "\n",
              "    [theme=dark] .colab-df-convert:hover {\n",
              "      background-color: #434B5C;\n",
              "      box-shadow: 0px 1px 3px 1px rgba(0, 0, 0, 0.15);\n",
              "      filter: drop-shadow(0px 1px 2px rgba(0, 0, 0, 0.3));\n",
              "      fill: #FFFFFF;\n",
              "    }\n",
              "  </style>\n",
              "\n",
              "    <script>\n",
              "      const buttonEl =\n",
              "        document.querySelector('#df-8cb41bfb-9b87-4c6f-b578-6c5b07c4ca5e button.colab-df-convert');\n",
              "      buttonEl.style.display =\n",
              "        google.colab.kernel.accessAllowed ? 'block' : 'none';\n",
              "\n",
              "      async function convertToInteractive(key) {\n",
              "        const element = document.querySelector('#df-8cb41bfb-9b87-4c6f-b578-6c5b07c4ca5e');\n",
              "        const dataTable =\n",
              "          await google.colab.kernel.invokeFunction('convertToInteractive',\n",
              "                                                    [key], {});\n",
              "        if (!dataTable) return;\n",
              "\n",
              "        const docLinkHtml = 'Like what you see? Visit the ' +\n",
              "          '<a target=\"_blank\" href=https://colab.research.google.com/notebooks/data_table.ipynb>data table notebook</a>'\n",
              "          + ' to learn more about interactive tables.';\n",
              "        element.innerHTML = '';\n",
              "        dataTable['output_type'] = 'display_data';\n",
              "        await google.colab.output.renderOutput(dataTable, element);\n",
              "        const docLink = document.createElement('div');\n",
              "        docLink.innerHTML = docLinkHtml;\n",
              "        element.appendChild(docLink);\n",
              "      }\n",
              "    </script>\n",
              "  </div>\n",
              "\n",
              "\n",
              "<div id=\"df-672970f1-a3a7-4d7f-96ac-08b0085893bf\">\n",
              "  <button class=\"colab-df-quickchart\" onclick=\"quickchart('df-672970f1-a3a7-4d7f-96ac-08b0085893bf')\"\n",
              "            title=\"Suggest charts\"\n",
              "            style=\"display:none;\">\n",
              "\n",
              "<svg xmlns=\"http://www.w3.org/2000/svg\" height=\"24px\"viewBox=\"0 0 24 24\"\n",
              "     width=\"24px\">\n",
              "    <g>\n",
              "        <path d=\"M19 3H5c-1.1 0-2 .9-2 2v14c0 1.1.9 2 2 2h14c1.1 0 2-.9 2-2V5c0-1.1-.9-2-2-2zM9 17H7v-7h2v7zm4 0h-2V7h2v10zm4 0h-2v-4h2v4z\"/>\n",
              "    </g>\n",
              "</svg>\n",
              "  </button>\n",
              "\n",
              "<style>\n",
              "  .colab-df-quickchart {\n",
              "      --bg-color: #E8F0FE;\n",
              "      --fill-color: #1967D2;\n",
              "      --hover-bg-color: #E2EBFA;\n",
              "      --hover-fill-color: #174EA6;\n",
              "      --disabled-fill-color: #AAA;\n",
              "      --disabled-bg-color: #DDD;\n",
              "  }\n",
              "\n",
              "  [theme=dark] .colab-df-quickchart {\n",
              "      --bg-color: #3B4455;\n",
              "      --fill-color: #D2E3FC;\n",
              "      --hover-bg-color: #434B5C;\n",
              "      --hover-fill-color: #FFFFFF;\n",
              "      --disabled-bg-color: #3B4455;\n",
              "      --disabled-fill-color: #666;\n",
              "  }\n",
              "\n",
              "  .colab-df-quickchart {\n",
              "    background-color: var(--bg-color);\n",
              "    border: none;\n",
              "    border-radius: 50%;\n",
              "    cursor: pointer;\n",
              "    display: none;\n",
              "    fill: var(--fill-color);\n",
              "    height: 32px;\n",
              "    padding: 0;\n",
              "    width: 32px;\n",
              "  }\n",
              "\n",
              "  .colab-df-quickchart:hover {\n",
              "    background-color: var(--hover-bg-color);\n",
              "    box-shadow: 0 1px 2px rgba(60, 64, 67, 0.3), 0 1px 3px 1px rgba(60, 64, 67, 0.15);\n",
              "    fill: var(--button-hover-fill-color);\n",
              "  }\n",
              "\n",
              "  .colab-df-quickchart-complete:disabled,\n",
              "  .colab-df-quickchart-complete:disabled:hover {\n",
              "    background-color: var(--disabled-bg-color);\n",
              "    fill: var(--disabled-fill-color);\n",
              "    box-shadow: none;\n",
              "  }\n",
              "\n",
              "  .colab-df-spinner {\n",
              "    border: 2px solid var(--fill-color);\n",
              "    border-color: transparent;\n",
              "    border-bottom-color: var(--fill-color);\n",
              "    animation:\n",
              "      spin 1s steps(1) infinite;\n",
              "  }\n",
              "\n",
              "  @keyframes spin {\n",
              "    0% {\n",
              "      border-color: transparent;\n",
              "      border-bottom-color: var(--fill-color);\n",
              "      border-left-color: var(--fill-color);\n",
              "    }\n",
              "    20% {\n",
              "      border-color: transparent;\n",
              "      border-left-color: var(--fill-color);\n",
              "      border-top-color: var(--fill-color);\n",
              "    }\n",
              "    30% {\n",
              "      border-color: transparent;\n",
              "      border-left-color: var(--fill-color);\n",
              "      border-top-color: var(--fill-color);\n",
              "      border-right-color: var(--fill-color);\n",
              "    }\n",
              "    40% {\n",
              "      border-color: transparent;\n",
              "      border-right-color: var(--fill-color);\n",
              "      border-top-color: var(--fill-color);\n",
              "    }\n",
              "    60% {\n",
              "      border-color: transparent;\n",
              "      border-right-color: var(--fill-color);\n",
              "    }\n",
              "    80% {\n",
              "      border-color: transparent;\n",
              "      border-right-color: var(--fill-color);\n",
              "      border-bottom-color: var(--fill-color);\n",
              "    }\n",
              "    90% {\n",
              "      border-color: transparent;\n",
              "      border-bottom-color: var(--fill-color);\n",
              "    }\n",
              "  }\n",
              "</style>\n",
              "\n",
              "  <script>\n",
              "    async function quickchart(key) {\n",
              "      const quickchartButtonEl =\n",
              "        document.querySelector('#' + key + ' button');\n",
              "      quickchartButtonEl.disabled = true;  // To prevent multiple clicks.\n",
              "      quickchartButtonEl.classList.add('colab-df-spinner');\n",
              "      try {\n",
              "        const charts = await google.colab.kernel.invokeFunction(\n",
              "            'suggestCharts', [key], {});\n",
              "      } catch (error) {\n",
              "        console.error('Error during call to suggestCharts:', error);\n",
              "      }\n",
              "      quickchartButtonEl.classList.remove('colab-df-spinner');\n",
              "      quickchartButtonEl.classList.add('colab-df-quickchart-complete');\n",
              "    }\n",
              "    (() => {\n",
              "      let quickchartButtonEl =\n",
              "        document.querySelector('#df-672970f1-a3a7-4d7f-96ac-08b0085893bf button');\n",
              "      quickchartButtonEl.style.display =\n",
              "        google.colab.kernel.accessAllowed ? 'block' : 'none';\n",
              "    })();\n",
              "  </script>\n",
              "</div>\n",
              "\n",
              "    </div>\n",
              "  </div>\n"
            ],
            "application/vnd.google.colaboratory.intrinsic+json": {
              "type": "dataframe",
              "summary": "{\n  \"name\": \"df_input\",\n  \"rows\": 8,\n  \"fields\": [\n    {\n      \"column\": \"Open\",\n      \"properties\": {\n        \"dtype\": \"number\",\n        \"std\": 68.29668438877357,\n        \"min\": 21.81177583428427,\n        \"max\": 252.0,\n        \"num_unique_values\": 8,\n        \"samples\": [\n          101.52224694047621,\n          91.5163615,\n          252.0\n        ],\n        \"semantic_type\": \"\",\n        \"description\": \"\"\n      }\n    },\n    {\n      \"column\": \"High\",\n      \"properties\": {\n        \"dtype\": \"number\",\n        \"std\": 68.26889270699021,\n        \"min\": 22.392696368521317,\n        \"max\": 252.0,\n        \"num_unique_values\": 8,\n        \"samples\": [\n          102.73102577380952,\n          92.458099,\n          252.0\n        ],\n        \"semantic_type\": \"\",\n        \"description\": \"\"\n      }\n    },\n    {\n      \"column\": \"Low\",\n      \"properties\": {\n        \"dtype\": \"number\",\n        \"std\": 68.53604729050305,\n        \"min\": 21.355666919932442,\n        \"max\": 252.0,\n        \"num_unique_values\": 8,\n        \"samples\": [\n          100.5455289404762,\n          90.8858755,\n          252.0\n        ],\n        \"semantic_type\": \"\",\n        \"description\": \"\"\n      }\n    },\n    {\n      \"column\": \"Close\",\n      \"properties\": {\n        \"dtype\": \"number\",\n        \"std\": 68.34039294372344,\n        \"min\": 21.986585624420112,\n        \"max\": 252.0,\n        \"num_unique_values\": 8,\n        \"samples\": [\n          101.73287078968254,\n          91.7198755,\n          252.0\n        ],\n        \"semantic_type\": \"\",\n        \"description\": \"\"\n      }\n    },\n    {\n      \"column\": \"Adj Close\",\n      \"properties\": {\n        \"dtype\": \"number\",\n        \"std\": 68.39288321405076,\n        \"min\": 22.043834196603374,\n        \"max\": 252.0,\n        \"num_unique_values\": 8,\n        \"samples\": [\n          101.47511838888889,\n          91.40258,\n          252.0\n        ],\n        \"semantic_type\": \"\",\n        \"description\": \"\"\n      }\n    }\n  ]\n}"
            }
          },
          "metadata": {},
          "execution_count": 6
        }
      ]
    },
    {
      "cell_type": "code",
      "source": [
        "cols = list(df)[1:6]\n",
        "#Date and volume columns are not used in training.\n",
        "print(cols) #['Open', 'High', 'Low', 'Close', 'Adj Close']\n",
        "\n",
        "#New dataframe with only training data - 5 columns\n",
        "df_for_training = df[cols].astype(float)\n",
        "df_for_plot=df_for_training.tail(5000)\n",
        "df_for_plot.plot.line()"
      ],
      "metadata": {
        "colab": {
          "base_uri": "https://localhost:8080/",
          "height": 465
        },
        "id": "dgLc5awt6PtZ",
        "outputId": "9eb15219-6444-43e6-ff71-b3371420f246"
      },
      "execution_count": null,
      "outputs": [
        {
          "output_type": "stream",
          "name": "stdout",
          "text": [
            "['Open', 'High', 'Low', 'Close', 'Adj Close']\n"
          ]
        },
        {
          "output_type": "execute_result",
          "data": {
            "text/plain": [
              "<Axes: >"
            ]
          },
          "metadata": {},
          "execution_count": 124
        },
        {
          "output_type": "display_data",
          "data": {
            "text/plain": [
              "<Figure size 640x480 with 1 Axes>"
            ],
            "image/png": "[encoded data removed]"
          },
          "metadata": {}
        }
      ]
    },
    {
      "cell_type": "code",
      "source": [
        "#LSTM uses sigmoid and tanh that are sensitive to magnitude so values need to be normalized\n",
        "# normalize the dataset\n",
        "scaler = MinMaxScaler()\n",
        "data_Scaled = scaler.fit_transform(df_input)\n",
        "data_Scaled\n"
      ],
      "metadata": {
        "id": "5_dWCREn6X2w",
        "colab": {
          "base_uri": "https://localhost:8080/"
        },
        "outputId": "99a2889d-95e0-4851-dade-cfb8af4c45f6"
      },
      "execution_count": null,
      "outputs": [
        {
          "output_type": "execute_result",
          "data": {
            "text/plain": [
              "array([[0.00330809, 0.01864443, 0.018347  , 0.02217952, 0.02199349],\n",
              "       [0.013894  , 0.01892131, 0.02602287, 0.02525482, 0.02504304],\n",
              "       [0.02589777, 0.02741279, 0.0365069 , 0.02767782, 0.02744584],\n",
              "       ...,\n",
              "       [0.96980025, 0.96657704, 0.9684489 , 0.97501147, 0.97511188],\n",
              "       [0.99336793, 0.99780278, 1.        , 1.        , 1.        ],\n",
              "       [1.        , 1.        , 0.98334481, 0.96882273, 0.96894801]])"
            ]
          },
          "metadata": {},
          "execution_count": 10
        }
      ]
    },
    {
      "cell_type": "code",
      "source": [
        "features= data_Scaled\n",
        "target=data_Scaled[:,0]\n"
      ],
      "metadata": {
        "id": "XKBbeFRU6cLY"
      },
      "execution_count": null,
      "outputs": []
    },
    {
      "cell_type": "code",
      "source": [
        "TimeseriesGenerator(features,target,length=14, sampling_rate=1,batch_size=1)[0]"
      ],
      "metadata": {
        "colab": {
          "base_uri": "https://localhost:8080/"
        },
        "id": "Ty6wvSi_xxgN",
        "outputId": "9ab87e8e-fb11-49bc-f042-05aba6f05fdd"
      },
      "execution_count": null,
      "outputs": [
        {
          "output_type": "execute_result",
          "data": {
            "text/plain": [
              "(array([[[0.00330809, 0.01864443, 0.018347  , 0.02217952, 0.02199349],\n",
              "         [0.013894  , 0.01892131, 0.02602287, 0.02525482, 0.02504304],\n",
              "         [0.02589777, 0.02741279, 0.0365069 , 0.02767782, 0.02744584],\n",
              "         [0.02221155, 0.01633692, 0.        , 0.00484592, 0.00480533],\n",
              "         [0.01361047, 0.01642921, 0.02190413, 0.01341954, 0.01330695],\n",
              "         [0.01020787, 0.01042981, 0.02630368, 0.01975661, 0.01959105],\n",
              "         [0.01540627, 0.0177214 , 0.03145204, 0.02050208, 0.02033017],\n",
              "         [0.02211704, 0.01559849, 0.00982871, 0.0068961 , 0.0068383 ],\n",
              "         [0.00245749, 0.        , 0.01319864, 0.00661655, 0.00656102],\n",
              "         [0.00415878, 0.00018458, 0.00280814, 0.        , 0.        ],\n",
              "         [0.        , 0.02150569, 0.01507077, 0.02982128, 0.02957127],\n",
              "         [0.01975416, 0.02076725, 0.03257535, 0.0217136 , 0.02153157],\n",
              "         [0.02580325, 0.03322761, 0.03875351, 0.04352036, 0.04315541],\n",
              "         [0.03544397, 0.03968846, 0.04043843, 0.04855274, 0.04814575]]]),\n",
              " array([0.05085032]))"
            ]
          },
          "metadata": {},
          "execution_count": 34
        }
      ]
    },
    {
      "cell_type": "code",
      "source": [
        "x_train, x_test, y_train, y_test= train_test_split(features, target, test_size=0.20,random_state=47, shuffle=False)"
      ],
      "metadata": {
        "id": "CM9a7gCGxxlI"
      },
      "execution_count": null,
      "outputs": []
    },
    {
      "cell_type": "code",
      "source": [
        "x_train.shape"
      ],
      "metadata": {
        "colab": {
          "base_uri": "https://localhost:8080/"
        },
        "id": "9az9gziVxxpg",
        "outputId": "e0ee827f-73ab-4c05-e182-61e99dc7dc90"
      },
      "execution_count": null,
      "outputs": [
        {
          "output_type": "execute_result",
          "data": {
            "text/plain": [
              "(201, 5)"
            ]
          },
          "metadata": {},
          "execution_count": 36
        }
      ]
    },
    {
      "cell_type": "code",
      "source": [
        "x_test.shape"
      ],
      "metadata": {
        "colab": {
          "base_uri": "https://localhost:8080/"
        },
        "id": "82NFhXclxxuA",
        "outputId": "7c9a1d0c-c091-4585-c08e-a42caa0f7972"
      },
      "execution_count": null,
      "outputs": [
        {
          "output_type": "execute_result",
          "data": {
            "text/plain": [
              "(51, 5)"
            ]
          },
          "metadata": {},
          "execution_count": 37
        }
      ]
    },
    {
      "cell_type": "code",
      "source": [
        "win_length=14\n",
        "batch_size=32\n",
        "num_features=5\n",
        "train_generator=TimeseriesGenerator(features,target,length=win_length, sampling_rate=1,batch_size=batch_size)\n",
        "test_generator=TimeseriesGenerator(features,target,length=win_length, sampling_rate=1,batch_size=batch_size)"
      ],
      "metadata": {
        "id": "F16zULXRxxxL"
      },
      "execution_count": null,
      "outputs": []
    },
    {
      "cell_type": "code",
      "source": [
        "train_generator[0]"
      ],
      "metadata": {
        "colab": {
          "base_uri": "https://localhost:8080/"
        },
        "id": "pR82_P_O1Bvn",
        "outputId": "e98bae97-0fde-4e78-cad7-fa66d0cd5401"
      },
      "execution_count": null,
      "outputs": [
        {
          "output_type": "execute_result",
          "data": {
            "text/plain": [
              "(array([[[0.00330809, 0.01864443, 0.018347  , 0.02217952, 0.02199349],\n",
              "         [0.013894  , 0.01892131, 0.02602287, 0.02525482, 0.02504304],\n",
              "         [0.02589777, 0.02741279, 0.0365069 , 0.02767782, 0.02744584],\n",
              "         ...,\n",
              "         [0.01975416, 0.02076725, 0.03257535, 0.0217136 , 0.02153157],\n",
              "         [0.02580325, 0.03322761, 0.03875351, 0.04352036, 0.04315541],\n",
              "         [0.03544397, 0.03968846, 0.04043843, 0.04855274, 0.04814575]],\n",
              " \n",
              "        [[0.013894  , 0.01892131, 0.02602287, 0.02525482, 0.02504304],\n",
              "         [0.02589777, 0.02741279, 0.0365069 , 0.02767782, 0.02744584],\n",
              "         [0.02221155, 0.01633692, 0.        , 0.00484592, 0.00480533],\n",
              "         ...,\n",
              "         [0.02580325, 0.03322761, 0.03875351, 0.04352036, 0.04315541],\n",
              "         [0.03544397, 0.03968846, 0.04043843, 0.04855274, 0.04814575],\n",
              "         [0.05085032, 0.05353331, 0.06018964, 0.05088248, 0.05045591]],\n",
              " \n",
              "        [[0.02589777, 0.02741279, 0.0365069 , 0.02767782, 0.02744584],\n",
              "         [0.02221155, 0.01633692, 0.        , 0.00484592, 0.00480533],\n",
              "         [0.01361047, 0.01642921, 0.02190413, 0.01341954, 0.01330695],\n",
              "         ...,\n",
              "         [0.03544397, 0.03968846, 0.04043843, 0.04855274, 0.04814575],\n",
              "         [0.05085032, 0.05353331, 0.06018964, 0.05088248, 0.05045591],\n",
              "         [0.04688058, 0.05501008, 0.06262338, 0.05358504, 0.0531358 ]],\n",
              " \n",
              "        ...,\n",
              " \n",
              "        [[0.06776896, 0.06377853, 0.07713253, 0.0692412 , 0.06866065],\n",
              "         [0.06512246, 0.06617824, 0.07863025, 0.07399402, 0.07337361],\n",
              "         [0.0716441 , 0.0629478 , 0.06131286, 0.05498291, 0.05452195],\n",
              "         ...,\n",
              "         [0.05812816, 0.06820887, 0.07076725, 0.07688295, 0.07623842],\n",
              "         [0.06691826, 0.07245461, 0.08078326, 0.08331312, 0.08261471],\n",
              "         [0.09309956, 0.09488322, 0.10474681, 0.10297654, 0.10211322]],\n",
              " \n",
              "        [[0.06512246, 0.06617824, 0.07863025, 0.07399402, 0.07337361],\n",
              "         [0.0716441 , 0.0629478 , 0.06131286, 0.05498291, 0.05452195],\n",
              "         [0.05009415, 0.05224111, 0.06159376, 0.06159954, 0.06108305],\n",
              "         ...,\n",
              "         [0.06691826, 0.07245461, 0.08078326, 0.08331312, 0.08261471],\n",
              "         [0.09309956, 0.09488322, 0.10474681, 0.10297654, 0.10211322],\n",
              "         [0.09376122, 0.08629935, 0.09267139, 0.0883455 , 0.08760486]],\n",
              " \n",
              "        [[0.0716441 , 0.0629478 , 0.06131286, 0.05498291, 0.05452195],\n",
              "         [0.05009415, 0.05224111, 0.06159376, 0.06159954, 0.06108305],\n",
              "         [0.06436627, 0.08233058, 0.07984716, 0.06980041, 0.0692153 ],\n",
              "         ...,\n",
              "         [0.09309956, 0.09488322, 0.10474681, 0.10297654, 0.10211322],\n",
              "         [0.09376122, 0.08629935, 0.09267139, 0.0883455 , 0.08760486],\n",
              "         [0.08582172, 0.08316121, 0.09688374, 0.09179355, 0.09102397]]]),\n",
              " array([0.05085032, 0.04688058, 0.04461221, 0.02022671, 0.02136094,\n",
              "        0.02315675, 0.03667271, 0.02060477, 0.01956504, 0.06011299,\n",
              "        0.06294851, 0.04905452, 0.07088801, 0.06332664, 0.06757993,\n",
              "        0.06776896, 0.06512246, 0.0716441 , 0.05009415, 0.06436627,\n",
              "        0.06559501, 0.04253278, 0.05217357, 0.03733438, 0.04149305,\n",
              "        0.05189003, 0.05812816, 0.06691826, 0.09309956, 0.09376122,\n",
              "        0.08582172, 0.08383689]))"
            ]
          },
          "metadata": {},
          "execution_count": 83
        }
      ]
    },
    {
      "cell_type": "code",
      "source": [
        "model=tf.keras.Sequential()\n",
        "model.add(tf.keras.layers.LSTM(128, input_shape=(win_length, num_features), return_sequences=True))\n",
        "model.add(tf.keras.layers.LeakyReLU(alpha=0.5))\n",
        "\n",
        "model.add(tf.keras.layers.LSTM(128, return_sequences=True))\n",
        "model.add(tf.keras.layers.LeakyReLU(alpha=0.5))\n",
        "\n",
        "model.add(tf.keras.layers.LSTM(64, return_sequences=False))\n",
        "model.add(tf.keras.layers.Dropout(0.3))\n",
        "model.add(tf.keras.layers.Dense(1))"
      ],
      "metadata": {
        "id": "NrEc7mpC1Bzc"
      },
      "execution_count": null,
      "outputs": []
    },
    {
      "cell_type": "code",
      "source": [
        "model.summary()"
      ],
      "metadata": {
        "colab": {
          "base_uri": "https://localhost:8080/"
        },
        "id": "yd3aWVb61B3I",
        "outputId": "f653a809-cdea-4450-fe1f-28267bde997b"
      },
      "execution_count": null,
      "outputs": [
        {
          "output_type": "stream",
          "name": "stdout",
          "text": [
            "Model: \"sequential_3\"\n",
            "_________________________________________________________________\n",
            " Layer (type)                Output Shape              Param #   \n",
            "=================================================================\n",
            " lstm_9 (LSTM)               (None, 14, 128)           68608     \n",
            "                                                                 \n",
            " leaky_re_lu_6 (LeakyReLU)   (None, 14, 128)           0         \n",
            "                                                                 \n",
            " lstm_10 (LSTM)              (None, 14, 128)           131584    \n",
            "                                                                 \n",
            " leaky_re_lu_7 (LeakyReLU)   (None, 14, 128)           0         \n",
            "                                                                 \n",
            " lstm_11 (LSTM)              (None, 64)                49408     \n",
            "                                                                 \n",
            " dropout_3 (Dropout)         (None, 64)                0         \n",
            "                                                                 \n",
            " dense_3 (Dense)             (None, 1)                 65        \n",
            "                                                                 \n",
            "=================================================================\n",
            "Total params: 249665 (975.25 KB)\n",
            "Trainable params: 249665 (975.25 KB)\n",
            "Non-trainable params: 0 (0.00 Byte)\n",
            "_________________________________________________________________\n"
          ]
        }
      ]
    },
    {
      "cell_type": "code",
      "source": [
        "early_stopping=tf.keras.callbacks.EarlyStopping(monitor='val_loss',patience=2,mode='min')\n",
        "\n",
        "model.compile(loss=tf.losses.MeanSquaredError(),optimizer=tf.optimizers.Adam(),metrics=[tf.metrics.MeanAbsoluteError()])\n",
        "\n",
        "history=model.fit_generator(train_generator, epochs=50, validation_data=test_generator, shuffle=False, callbacks=[early_stopping])"
      ],
      "metadata": {
        "colab": {
          "base_uri": "https://localhost:8080/"
        },
        "id": "49ALWv9_1B6i",
        "outputId": "401c0a7a-41c9-4e4f-dc39-3a9fc17c4a6a"
      },
      "execution_count": null,
      "outputs": [
        {
          "output_type": "stream",
          "name": "stderr",
          "text": [
            "<ipython-input-88-2cd0d306e508>:5: UserWarning: `Model.fit_generator` is deprecated and will be removed in a future version. Please use `Model.fit`, which supports generators.\n",
            "  history=model.fit_generator(train_generator, epochs=50, validation_data=test_generator, shuffle=False, callbacks=[early_stopping])\n"
          ]
        },
        {
          "output_type": "stream",
          "name": "stdout",
          "text": [
            "Epoch 1/50\n",
            "8/8 [==============================] - 8s 283ms/step - loss: 0.0402 - mean_absolute_error: 0.1474 - val_loss: 0.0084 - val_mean_absolute_error: 0.0638\n",
            "Epoch 2/50\n",
            "8/8 [==============================] - 1s 86ms/step - loss: 0.0325 - mean_absolute_error: 0.1509 - val_loss: 0.0024 - val_mean_absolute_error: 0.0353\n",
            "Epoch 3/50\n",
            "8/8 [==============================] - 1s 85ms/step - loss: 0.0702 - mean_absolute_error: 0.1737 - val_loss: 0.0525 - val_mean_absolute_error: 0.1526\n",
            "Epoch 4/50\n",
            "8/8 [==============================] - 1s 90ms/step - loss: 0.0120 - mean_absolute_error: 0.0700 - val_loss: 0.0067 - val_mean_absolute_error: 0.0738\n"
          ]
        }
      ]
    },
    {
      "cell_type": "code",
      "source": [
        "model.evaluate_generator(test_generator, verbose=0)"
      ],
      "metadata": {
        "colab": {
          "base_uri": "https://localhost:8080/"
        },
        "id": "AeaET_3v1B9-",
        "outputId": "327814da-cdd3-4731-b8c1-e38a1262c5e2"
      },
      "execution_count": null,
      "outputs": [
        {
          "output_type": "stream",
          "name": "stderr",
          "text": [
            "<ipython-input-89-a68ec1088d46>:1: UserWarning: `Model.evaluate_generator` is deprecated and will be removed in a future version. Please use `Model.evaluate`, which supports generators.\n",
            "  model.evaluate_generator(test_generator, verbose=0)\n"
          ]
        },
        {
          "output_type": "execute_result",
          "data": {
            "text/plain": [
              "[0.0067184194922447205, 0.07383093237876892]"
            ]
          },
          "metadata": {},
          "execution_count": 89
        }
      ]
    },
    {
      "cell_type": "code",
      "source": [
        "predictions=model.predict_generator(test_generator)"
      ],
      "metadata": {
        "colab": {
          "base_uri": "https://localhost:8080/"
        },
        "id": "p2xvT_RO1CBn",
        "outputId": "2fde27c7-8277-45bf-8e17-ad1484987dbf"
      },
      "execution_count": null,
      "outputs": [
        {
          "output_type": "stream",
          "name": "stderr",
          "text": [
            "<ipython-input-90-6ca49477046f>:1: UserWarning: `Model.predict_generator` is deprecated and will be removed in a future version. Please use `Model.predict`, which supports generators.\n",
            "  predictions=model.predict_generator(test_generator)\n"
          ]
        }
      ]
    },
    {
      "cell_type": "code",
      "source": [
        "predictions.shape[0]"
      ],
      "metadata": {
        "colab": {
          "base_uri": "https://localhost:8080/"
        },
        "id": "n4DdbuLP1CHW",
        "outputId": "d6330a46-0cef-4622-bffb-c8c5525cd6f8"
      },
      "execution_count": null,
      "outputs": [
        {
          "output_type": "execute_result",
          "data": {
            "text/plain": [
              "238"
            ]
          },
          "metadata": {},
          "execution_count": 91
        }
      ]
    },
    {
      "cell_type": "code",
      "source": [
        "predictions"
      ],
      "metadata": {
        "colab": {
          "base_uri": "https://localhost:8080/"
        },
        "id": "wQKyUfoa1CLe",
        "outputId": "ee9269c6-6075-4c1d-a5a3-43edd08dcd35"
      },
      "execution_count": null,
      "outputs": [
        {
          "output_type": "execute_result",
          "data": {
            "text/plain": [
              "array([[0.06069248],\n",
              "       [0.06190038],\n",
              "       [0.0636282 ],\n",
              "       [0.06547342],\n",
              "       [0.06878794],\n",
              "       [0.07135198],\n",
              "       [0.07352749],\n",
              "       [0.07526023],\n",
              "       [0.07736312],\n",
              "       [0.07959634],\n",
              "       [0.08246042],\n",
              "       [0.0842241 ],\n",
              "       [0.0863206 ],\n",
              "       [0.08796078],\n",
              "       [0.08997623],\n",
              "       [0.09197763],\n",
              "       [0.09452406],\n",
              "       [0.09912506],\n",
              "       [0.10467201],\n",
              "       [0.10951727],\n",
              "       [0.1133441 ],\n",
              "       [0.11685061],\n",
              "       [0.12052029],\n",
              "       [0.12191556],\n",
              "       [0.12110177],\n",
              "       [0.12062764],\n",
              "       [0.11952955],\n",
              "       [0.11768666],\n",
              "       [0.11649786],\n",
              "       [0.11629614],\n",
              "       [0.11703776],\n",
              "       [0.11855596],\n",
              "       [0.1216896 ],\n",
              "       [0.1253084 ],\n",
              "       [0.12828988],\n",
              "       [0.13335527],\n",
              "       [0.13893299],\n",
              "       [0.14475949],\n",
              "       [0.15175258],\n",
              "       [0.15824336],\n",
              "       [0.16416651],\n",
              "       [0.16864215],\n",
              "       [0.17232646],\n",
              "       [0.17412685],\n",
              "       [0.176603  ],\n",
              "       [0.17952327],\n",
              "       [0.18378814],\n",
              "       [0.18859127],\n",
              "       [0.19270916],\n",
              "       [0.19650857],\n",
              "       [0.20034464],\n",
              "       [0.20401435],\n",
              "       [0.20777106],\n",
              "       [0.21063499],\n",
              "       [0.21310948],\n",
              "       [0.21609949],\n",
              "       [0.21794434],\n",
              "       [0.21961121],\n",
              "       [0.22130497],\n",
              "       [0.21907549],\n",
              "       [0.21794234],\n",
              "       [0.21690316],\n",
              "       [0.21645938],\n",
              "       [0.21597174],\n",
              "       [0.2157351 ],\n",
              "       [0.21561174],\n",
              "       [0.21519522],\n",
              "       [0.21395858],\n",
              "       [0.21146503],\n",
              "       [0.20951232],\n",
              "       [0.20878796],\n",
              "       [0.20812277],\n",
              "       [0.20742936],\n",
              "       [0.20680635],\n",
              "       [0.2074116 ],\n",
              "       [0.20826404],\n",
              "       [0.21021114],\n",
              "       [0.21210407],\n",
              "       [0.21310677],\n",
              "       [0.21416998],\n",
              "       [0.21453853],\n",
              "       [0.21591023],\n",
              "       [0.21773694],\n",
              "       [0.21876663],\n",
              "       [0.21956407],\n",
              "       [0.22098175],\n",
              "       [0.22249715],\n",
              "       [0.22357087],\n",
              "       [0.22479689],\n",
              "       [0.22513837],\n",
              "       [0.22489595],\n",
              "       [0.22399722],\n",
              "       [0.22103882],\n",
              "       [0.21644083],\n",
              "       [0.21189962],\n",
              "       [0.20564361],\n",
              "       [0.19907442],\n",
              "       [0.19192015],\n",
              "       [0.18533993],\n",
              "       [0.1799336 ],\n",
              "       [0.17724891],\n",
              "       [0.17643994],\n",
              "       [0.17631866],\n",
              "       [0.17699176],\n",
              "       [0.17717709],\n",
              "       [0.17618792],\n",
              "       [0.17522293],\n",
              "       [0.17468342],\n",
              "       [0.17406671],\n",
              "       [0.17294449],\n",
              "       [0.17224608],\n",
              "       [0.17054535],\n",
              "       [0.16886364],\n",
              "       [0.166523  ],\n",
              "       [0.16351987],\n",
              "       [0.16121227],\n",
              "       [0.16034053],\n",
              "       [0.15982138],\n",
              "       [0.15939435],\n",
              "       [0.16056265],\n",
              "       [0.1630515 ],\n",
              "       [0.16715164],\n",
              "       [0.17179666],\n",
              "       [0.17362933],\n",
              "       [0.17714065],\n",
              "       [0.18388063],\n",
              "       [0.19319132],\n",
              "       [0.20208667],\n",
              "       [0.21206139],\n",
              "       [0.22371277],\n",
              "       [0.23500183],\n",
              "       [0.24579924],\n",
              "       [0.2550156 ],\n",
              "       [0.2632004 ],\n",
              "       [0.26979083],\n",
              "       [0.27587247],\n",
              "       [0.28110594],\n",
              "       [0.28584763],\n",
              "       [0.28954747],\n",
              "       [0.29336196],\n",
              "       [0.29568186],\n",
              "       [0.2965653 ],\n",
              "       [0.2970205 ],\n",
              "       [0.29777324],\n",
              "       [0.29868478],\n",
              "       [0.29954636],\n",
              "       [0.30083546],\n",
              "       [0.30310565],\n",
              "       [0.30616564],\n",
              "       [0.30861187],\n",
              "       [0.31089035],\n",
              "       [0.31464082],\n",
              "       [0.32013938],\n",
              "       [0.32645363],\n",
              "       [0.33413094],\n",
              "       [0.34160805],\n",
              "       [0.3488257 ],\n",
              "       [0.35441843],\n",
              "       [0.35949856],\n",
              "       [0.36392283],\n",
              "       [0.36661568],\n",
              "       [0.36871982],\n",
              "       [0.3700654 ],\n",
              "       [0.37264907],\n",
              "       [0.37451708],\n",
              "       [0.37621254],\n",
              "       [0.3778323 ],\n",
              "       [0.37915245],\n",
              "       [0.38027304],\n",
              "       [0.38222003],\n",
              "       [0.3853438 ],\n",
              "       [0.3897547 ],\n",
              "       [0.3938325 ],\n",
              "       [0.39720517],\n",
              "       [0.39979136],\n",
              "       [0.4021914 ],\n",
              "       [0.4044084 ],\n",
              "       [0.40734237],\n",
              "       [0.41106474],\n",
              "       [0.4170614 ],\n",
              "       [0.4248376 ],\n",
              "       [0.43284544],\n",
              "       [0.44083214],\n",
              "       [0.44829476],\n",
              "       [0.45762372],\n",
              "       [0.4671453 ],\n",
              "       [0.47679287],\n",
              "       [0.48720476],\n",
              "       [0.49908295],\n",
              "       [0.5109209 ],\n",
              "       [0.5238839 ],\n",
              "       [0.53673863],\n",
              "       [0.54944074],\n",
              "       [0.5625229 ],\n",
              "       [0.5761361 ],\n",
              "       [0.5897055 ],\n",
              "       [0.60344934],\n",
              "       [0.6174744 ],\n",
              "       [0.63142926],\n",
              "       [0.6449801 ],\n",
              "       [0.6560097 ],\n",
              "       [0.6661121 ],\n",
              "       [0.67684245],\n",
              "       [0.68895406],\n",
              "       [0.7018774 ],\n",
              "       [0.71409535],\n",
              "       [0.72568357],\n",
              "       [0.73659384],\n",
              "       [0.7478033 ],\n",
              "       [0.7586346 ],\n",
              "       [0.7691296 ],\n",
              "       [0.7792804 ],\n",
              "       [0.78881603],\n",
              "       [0.7995008 ],\n",
              "       [0.8097092 ],\n",
              "       [0.8171965 ],\n",
              "       [0.8227006 ],\n",
              "       [0.829903  ],\n",
              "       [0.8362427 ],\n",
              "       [0.8416071 ],\n",
              "       [0.8481704 ],\n",
              "       [0.8563533 ],\n",
              "       [0.86590993],\n",
              "       [0.876421  ],\n",
              "       [0.88813454],\n",
              "       [0.9004458 ],\n",
              "       [0.9138161 ],\n",
              "       [0.9284477 ],\n",
              "       [0.9430666 ],\n",
              "       [0.95505416],\n",
              "       [0.9671574 ],\n",
              "       [0.9784937 ],\n",
              "       [0.989066  ],\n",
              "       [0.9956918 ],\n",
              "       [0.99976623],\n",
              "       [1.0011834 ],\n",
              "       [1.002172  ],\n",
              "       [1.0056443 ]], dtype=float32)"
            ]
          },
          "metadata": {},
          "execution_count": 46
        }
      ]
    },
    {
      "cell_type": "code",
      "source": [
        "x_test[:,1:][win_length:]"
      ],
      "metadata": {
        "colab": {
          "base_uri": "https://localhost:8080/"
        },
        "id": "R4t7nRBf6jIa",
        "outputId": "6501953e-af1c-4ade-e8b9-a89098a8c83c"
      },
      "execution_count": null,
      "outputs": [
        {
          "output_type": "execute_result",
          "data": {
            "text/plain": [
              "array([[0.69990174, 0.6546912 , 0.64451216, 0.64317231],\n",
              "       [0.63169296, 0.61378457, 0.63146528, 0.63020093],\n",
              "       [0.62597044, 0.62267727, 0.63985252, 0.63853974],\n",
              "       [0.65596761, 0.63746741, 0.66501424, 0.66355581],\n",
              "       [0.65319864, 0.63859063, 0.63323598, 0.6319615 ],\n",
              "       [0.65089114, 0.63166375, 0.65317896, 0.65178902],\n",
              "       [0.65319864, 0.66620492, 0.66268442, 0.66123943],\n",
              "       [0.68254959, 0.67013637, 0.69576746, 0.69413114],\n",
              "       [0.69039502, 0.69831227, 0.70014736, 0.69848564],\n",
              "       [0.71134678, 0.70842179, 0.72540227, 0.72359434],\n",
              "       [0.71550032, 0.72704978, 0.71151672, 0.70978926],\n",
              "       [0.69713277, 0.70561355, 0.69604702, 0.69440905],\n",
              "       [0.69288712, 0.70196292, 0.69660614, 0.69496484],\n",
              "       [0.7418977 , 0.72330553, 0.75783283, 0.75583726],\n",
              "       [0.73829811, 0.72002911, 0.71505796, 0.71330987],\n",
              "       [0.70193236, 0.70814098, 0.7134738 , 0.71173492],\n",
              "       [0.7484604 , 0.65974103, 0.67281351, 0.67130989],\n",
              "       [0.78812857, 0.70689159, 0.77965698, 0.77753501],\n",
              "       [0.83496701, 0.80306974, 0.80032512, 0.79808355],\n",
              "       [0.88677834, 0.83028099, 0.90436625, 0.90152275],\n",
              "       [0.90389455, 0.89092003, 0.90693518, 0.90407673],\n",
              "       [0.90296932, 0.85843058, 0.8832311 , 0.88050981],\n",
              "       [0.9020441 , 0.86687549, 0.90798606, 0.90512162],\n",
              "       [0.90956148, 0.90323554, 0.92048024, 0.91754341],\n",
              "       [0.89267645, 0.8830616 , 0.88486587, 0.88532853],\n",
              "       [0.91245274, 0.87907377, 0.87400627, 0.87451257],\n",
              "       [0.89313914, 0.87098072, 0.90973753, 0.91010024],\n",
              "       [0.91233698, 0.89009909, 0.89700975, 0.89742361],\n",
              "       [0.90447284, 0.88130232, 0.86513189, 0.86567385],\n",
              "       [0.8527771 , 0.80975519, 0.80814862, 0.80891957],\n",
              "       [0.83404179, 0.83379973, 0.83302044, 0.83369145],\n",
              "       [0.96981524, 0.8805986 , 0.9781641 , 0.97825185],\n",
              "       [0.95466506, 0.91273603, 0.93811245, 0.93836114],\n",
              "       [0.94471913, 0.93103327, 0.96228353, 0.96243509],\n",
              "       [0.96657704, 0.9684489 , 0.97501147, 0.97511188],\n",
              "       [0.99780278, 1.        , 1.        , 1.        ],\n",
              "       [1.        , 0.98334481, 0.96882273, 0.96894801]])"
            ]
          },
          "metadata": {},
          "execution_count": 92
        }
      ]
    },
    {
      "cell_type": "code",
      "source": [
        "df_pred=pd.concat([pd.DataFrame(predictions),pd.DataFrame(x_test[:,1:][win_length:])],axis=1)"
      ],
      "metadata": {
        "id": "c_k4e8aA6p3p"
      },
      "execution_count": null,
      "outputs": []
    },
    {
      "cell_type": "code",
      "source": [
        "df_pred"
      ],
      "metadata": {
        "id": "pNY6Zj-v-hL2",
        "colab": {
          "base_uri": "https://localhost:8080/",
          "height": 423
        },
        "outputId": "cb8ebbde-fc35-4894-9d26-750720073783"
      },
      "execution_count": null,
      "outputs": [
        {
          "output_type": "execute_result",
          "data": {
            "text/plain": [
              "            0         0         1         2         3\n",
              "0    0.111924  0.699902  0.654691  0.644512  0.643172\n",
              "1    0.112877  0.631693  0.613785  0.631465  0.630201\n",
              "2    0.114236  0.625970  0.622677  0.639853  0.638540\n",
              "3    0.115630  0.655968  0.637467  0.665014  0.663556\n",
              "4    0.117951  0.653199  0.638591  0.633236  0.631962\n",
              "..        ...       ...       ...       ...       ...\n",
              "233  0.821734       NaN       NaN       NaN       NaN\n",
              "234  0.825068       NaN       NaN       NaN       NaN\n",
              "235  0.826388       NaN       NaN       NaN       NaN\n",
              "236  0.827296       NaN       NaN       NaN       NaN\n",
              "237  0.830173       NaN       NaN       NaN       NaN\n",
              "\n",
              "[238 rows x 5 columns]"
            ],
            "text/html": [
              "\n",
              "  <div id=\"df-e868ce19-fe03-46fe-817a-0484c9d4e658\" class=\"colab-df-container\">\n",
              "    <div>\n",
              "<style scoped>\n",
              "    .dataframe tbody tr th:only-of-type {\n",
              "        vertical-align: middle;\n",
              "    }\n",
              "\n",
              "    .dataframe tbody tr th {\n",
              "        vertical-align: top;\n",
              "    }\n",
              "\n",
              "    .dataframe thead th {\n",
              "        text-align: right;\n",
              "    }\n",
              "</style>\n",
              "<table border=\"1\" class=\"dataframe\">\n",
              "  <thead>\n",
              "    <tr style=\"text-align: right;\">\n",
              "      <th></th>\n",
              "      <th>0</th>\n",
              "      <th>0</th>\n",
              "      <th>1</th>\n",
              "      <th>2</th>\n",
              "      <th>3</th>\n",
              "    </tr>\n",
              "  </thead>\n",
              "  <tbody>\n",
              "    <tr>\n",
              "      <th>0</th>\n",
              "      <td>0.111924</td>\n",
              "      <td>0.699902</td>\n",
              "      <td>0.654691</td>\n",
              "      <td>0.644512</td>\n",
              "      <td>0.643172</td>\n",
              "    </tr>\n",
              "    <tr>\n",
              "      <th>1</th>\n",
              "      <td>0.112877</td>\n",
              "      <td>0.631693</td>\n",
              "      <td>0.613785</td>\n",
              "      <td>0.631465</td>\n",
              "      <td>0.630201</td>\n",
              "    </tr>\n",
              "    <tr>\n",
              "      <th>2</th>\n",
              "      <td>0.114236</td>\n",
              "      <td>0.625970</td>\n",
              "      <td>0.622677</td>\n",
              "      <td>0.639853</td>\n",
              "      <td>0.638540</td>\n",
              "    </tr>\n",
              "    <tr>\n",
              "      <th>3</th>\n",
              "      <td>0.115630</td>\n",
              "      <td>0.655968</td>\n",
              "      <td>0.637467</td>\n",
              "      <td>0.665014</td>\n",
              "      <td>0.663556</td>\n",
              "    </tr>\n",
              "    <tr>\n",
              "      <th>4</th>\n",
              "      <td>0.117951</td>\n",
              "      <td>0.653199</td>\n",
              "      <td>0.638591</td>\n",
              "      <td>0.633236</td>\n",
              "      <td>0.631962</td>\n",
              "    </tr>\n",
              "    <tr>\n",
              "      <th>...</th>\n",
              "      <td>...</td>\n",
              "      <td>...</td>\n",
              "      <td>...</td>\n",
              "      <td>...</td>\n",
              "      <td>...</td>\n",
              "    </tr>\n",
              "    <tr>\n",
              "      <th>233</th>\n",
              "      <td>0.821734</td>\n",
              "      <td>NaN</td>\n",
              "      <td>NaN</td>\n",
              "      <td>NaN</td>\n",
              "      <td>NaN</td>\n",
              "    </tr>\n",
              "    <tr>\n",
              "      <th>234</th>\n",
              "      <td>0.825068</td>\n",
              "      <td>NaN</td>\n",
              "      <td>NaN</td>\n",
              "      <td>NaN</td>\n",
              "      <td>NaN</td>\n",
              "    </tr>\n",
              "    <tr>\n",
              "      <th>235</th>\n",
              "      <td>0.826388</td>\n",
              "      <td>NaN</td>\n",
              "      <td>NaN</td>\n",
              "      <td>NaN</td>\n",
              "      <td>NaN</td>\n",
              "    </tr>\n",
              "    <tr>\n",
              "      <th>236</th>\n",
              "      <td>0.827296</td>\n",
              "      <td>NaN</td>\n",
              "      <td>NaN</td>\n",
              "      <td>NaN</td>\n",
              "      <td>NaN</td>\n",
              "    </tr>\n",
              "    <tr>\n",
              "      <th>237</th>\n",
              "      <td>0.830173</td>\n",
              "      <td>NaN</td>\n",
              "      <td>NaN</td>\n",
              "      <td>NaN</td>\n",
              "      <td>NaN</td>\n",
              "    </tr>\n",
              "  </tbody>\n",
              "</table>\n",
              "<p>238 rows × 5 columns</p>\n",
              "</div>\n",
              "    <div class=\"colab-df-buttons\">\n",
              "\n",
              "  <div class=\"colab-df-container\">\n",
              "    <button class=\"colab-df-convert\" onclick=\"convertToInteractive('df-e868ce19-fe03-46fe-817a-0484c9d4e658')\"\n",
              "            title=\"Convert this dataframe to an interactive table.\"\n",
              "            style=\"display:none;\">\n",
              "\n",
              "  <svg xmlns=\"http://www.w3.org/2000/svg\" height=\"24px\" viewBox=\"0 -960 960 960\">\n",
              "    <path d=\"M120-120v-720h720v720H120Zm60-500h600v-160H180v160Zm220 220h160v-160H400v160Zm0 220h160v-160H400v160ZM180-400h160v-160H180v160Zm440 0h160v-160H620v160ZM180-180h160v-160H180v160Zm440 0h160v-160H620v160Z\"/>\n",
              "  </svg>\n",
              "    </button>\n",
              "\n",
              "  <style>\n",
              "    .colab-df-container {\n",
              "      display:flex;\n",
              "      gap: 12px;\n",
              "    }\n",
              "\n",
              "    .colab-df-convert {\n",
              "      background-color: #E8F0FE;\n",
              "      border: none;\n",
              "      border-radius: 50%;\n",
              "      cursor: pointer;\n",
              "      display: none;\n",
              "      fill: #1967D2;\n",
              "      height: 32px;\n",
              "      padding: 0 0 0 0;\n",
              "      width: 32px;\n",
              "    }\n",
              "\n",
              "    .colab-df-convert:hover {\n",
              "      background-color: #E2EBFA;\n",
              "      box-shadow: 0px 1px 2px rgba(60, 64, 67, 0.3), 0px 1px 3px 1px rgba(60, 64, 67, 0.15);\n",
              "      fill: #174EA6;\n",
              "    }\n",
              "\n",
              "    .colab-df-buttons div {\n",
              "      margin-bottom: 4px;\n",
              "    }\n",
              "\n",
              "    [theme=dark] .colab-df-convert {\n",
              "      background-color: #3B4455;\n",
              "      fill: #D2E3FC;\n",
              "    }\n",
              "\n",
              "    [theme=dark] .colab-df-convert:hover {\n",
              "      background-color: #434B5C;\n",
              "      box-shadow: 0px 1px 3px 1px rgba(0, 0, 0, 0.15);\n",
              "      filter: drop-shadow(0px 1px 2px rgba(0, 0, 0, 0.3));\n",
              "      fill: #FFFFFF;\n",
              "    }\n",
              "  </style>\n",
              "\n",
              "    <script>\n",
              "      const buttonEl =\n",
              "        document.querySelector('#df-e868ce19-fe03-46fe-817a-0484c9d4e658 button.colab-df-convert');\n",
              "      buttonEl.style.display =\n",
              "        google.colab.kernel.accessAllowed ? 'block' : 'none';\n",
              "\n",
              "      async function convertToInteractive(key) {\n",
              "        const element = document.querySelector('#df-e868ce19-fe03-46fe-817a-0484c9d4e658');\n",
              "        const dataTable =\n",
              "          await google.colab.kernel.invokeFunction('convertToInteractive',\n",
              "                                                    [key], {});\n",
              "        if (!dataTable) return;\n",
              "\n",
              "        const docLinkHtml = 'Like what you see? Visit the ' +\n",
              "          '<a target=\"_blank\" href=https://colab.research.google.com/notebooks/data_table.ipynb>data table notebook</a>'\n",
              "          + ' to learn more about interactive tables.';\n",
              "        element.innerHTML = '';\n",
              "        dataTable['output_type'] = 'display_data';\n",
              "        await google.colab.output.renderOutput(dataTable, element);\n",
              "        const docLink = document.createElement('div');\n",
              "        docLink.innerHTML = docLinkHtml;\n",
              "        element.appendChild(docLink);\n",
              "      }\n",
              "    </script>\n",
              "  </div>\n",
              "\n",
              "\n",
              "<div id=\"df-2de5a9ee-6b54-4bb1-8a7d-e8b39af1216d\">\n",
              "  <button class=\"colab-df-quickchart\" onclick=\"quickchart('df-2de5a9ee-6b54-4bb1-8a7d-e8b39af1216d')\"\n",
              "            title=\"Suggest charts\"\n",
              "            style=\"display:none;\">\n",
              "\n",
              "<svg xmlns=\"http://www.w3.org/2000/svg\" height=\"24px\"viewBox=\"0 0 24 24\"\n",
              "     width=\"24px\">\n",
              "    <g>\n",
              "        <path d=\"M19 3H5c-1.1 0-2 .9-2 2v14c0 1.1.9 2 2 2h14c1.1 0 2-.9 2-2V5c0-1.1-.9-2-2-2zM9 17H7v-7h2v7zm4 0h-2V7h2v10zm4 0h-2v-4h2v4z\"/>\n",
              "    </g>\n",
              "</svg>\n",
              "  </button>\n",
              "\n",
              "<style>\n",
              "  .colab-df-quickchart {\n",
              "      --bg-color: #E8F0FE;\n",
              "      --fill-color: #1967D2;\n",
              "      --hover-bg-color: #E2EBFA;\n",
              "      --hover-fill-color: #174EA6;\n",
              "      --disabled-fill-color: #AAA;\n",
              "      --disabled-bg-color: #DDD;\n",
              "  }\n",
              "\n",
              "  [theme=dark] .colab-df-quickchart {\n",
              "      --bg-color: #3B4455;\n",
              "      --fill-color: #D2E3FC;\n",
              "      --hover-bg-color: #434B5C;\n",
              "      --hover-fill-color: #FFFFFF;\n",
              "      --disabled-bg-color: #3B4455;\n",
              "      --disabled-fill-color: #666;\n",
              "  }\n",
              "\n",
              "  .colab-df-quickchart {\n",
              "    background-color: var(--bg-color);\n",
              "    border: none;\n",
              "    border-radius: 50%;\n",
              "    cursor: pointer;\n",
              "    display: none;\n",
              "    fill: var(--fill-color);\n",
              "    height: 32px;\n",
              "    padding: 0;\n",
              "    width: 32px;\n",
              "  }\n",
              "\n",
              "  .colab-df-quickchart:hover {\n",
              "    background-color: var(--hover-bg-color);\n",
              "    box-shadow: 0 1px 2px rgba(60, 64, 67, 0.3), 0 1px 3px 1px rgba(60, 64, 67, 0.15);\n",
              "    fill: var(--button-hover-fill-color);\n",
              "  }\n",
              "\n",
              "  .colab-df-quickchart-complete:disabled,\n",
              "  .colab-df-quickchart-complete:disabled:hover {\n",
              "    background-color: var(--disabled-bg-color);\n",
              "    fill: var(--disabled-fill-color);\n",
              "    box-shadow: none;\n",
              "  }\n",
              "\n",
              "  .colab-df-spinner {\n",
              "    border: 2px solid var(--fill-color);\n",
              "    border-color: transparent;\n",
              "    border-bottom-color: var(--fill-color);\n",
              "    animation:\n",
              "      spin 1s steps(1) infinite;\n",
              "  }\n",
              "\n",
              "  @keyframes spin {\n",
              "    0% {\n",
              "      border-color: transparent;\n",
              "      border-bottom-color: var(--fill-color);\n",
              "      border-left-color: var(--fill-color);\n",
              "    }\n",
              "    20% {\n",
              "      border-color: transparent;\n",
              "      border-left-color: var(--fill-color);\n",
              "      border-top-color: var(--fill-color);\n",
              "    }\n",
              "    30% {\n",
              "      border-color: transparent;\n",
              "      border-left-color: var(--fill-color);\n",
              "      border-top-color: var(--fill-color);\n",
              "      border-right-color: var(--fill-color);\n",
              "    }\n",
              "    40% {\n",
              "      border-color: transparent;\n",
              "      border-right-color: var(--fill-color);\n",
              "      border-top-color: var(--fill-color);\n",
              "    }\n",
              "    60% {\n",
              "      border-color: transparent;\n",
              "      border-right-color: var(--fill-color);\n",
              "    }\n",
              "    80% {\n",
              "      border-color: transparent;\n",
              "      border-right-color: var(--fill-color);\n",
              "      border-bottom-color: var(--fill-color);\n",
              "    }\n",
              "    90% {\n",
              "      border-color: transparent;\n",
              "      border-bottom-color: var(--fill-color);\n",
              "    }\n",
              "  }\n",
              "</style>\n",
              "\n",
              "  <script>\n",
              "    async function quickchart(key) {\n",
              "      const quickchartButtonEl =\n",
              "        document.querySelector('#' + key + ' button');\n",
              "      quickchartButtonEl.disabled = true;  // To prevent multiple clicks.\n",
              "      quickchartButtonEl.classList.add('colab-df-spinner');\n",
              "      try {\n",
              "        const charts = await google.colab.kernel.invokeFunction(\n",
              "            'suggestCharts', [key], {});\n",
              "      } catch (error) {\n",
              "        console.error('Error during call to suggestCharts:', error);\n",
              "      }\n",
              "      quickchartButtonEl.classList.remove('colab-df-spinner');\n",
              "      quickchartButtonEl.classList.add('colab-df-quickchart-complete');\n",
              "    }\n",
              "    (() => {\n",
              "      let quickchartButtonEl =\n",
              "        document.querySelector('#df-2de5a9ee-6b54-4bb1-8a7d-e8b39af1216d button');\n",
              "      quickchartButtonEl.style.display =\n",
              "        google.colab.kernel.accessAllowed ? 'block' : 'none';\n",
              "    })();\n",
              "  </script>\n",
              "</div>\n",
              "\n",
              "  <div id=\"id_64dad448-ac39-442f-ac80-cd5cbd708f8f\">\n",
              "    <style>\n",
              "      .colab-df-generate {\n",
              "        background-color: #E8F0FE;\n",
              "        border: none;\n",
              "        border-radius: 50%;\n",
              "        cursor: pointer;\n",
              "        display: none;\n",
              "        fill: #1967D2;\n",
              "        height: 32px;\n",
              "        padding: 0 0 0 0;\n",
              "        width: 32px;\n",
              "      }\n",
              "\n",
              "      .colab-df-generate:hover {\n",
              "        background-color: #E2EBFA;\n",
              "        box-shadow: 0px 1px 2px rgba(60, 64, 67, 0.3), 0px 1px 3px 1px rgba(60, 64, 67, 0.15);\n",
              "        fill: #174EA6;\n",
              "      }\n",
              "\n",
              "      [theme=dark] .colab-df-generate {\n",
              "        background-color: #3B4455;\n",
              "        fill: #D2E3FC;\n",
              "      }\n",
              "\n",
              "      [theme=dark] .colab-df-generate:hover {\n",
              "        background-color: #434B5C;\n",
              "        box-shadow: 0px 1px 3px 1px rgba(0, 0, 0, 0.15);\n",
              "        filter: drop-shadow(0px 1px 2px rgba(0, 0, 0, 0.3));\n",
              "        fill: #FFFFFF;\n",
              "      }\n",
              "    </style>\n",
              "    <button class=\"colab-df-generate\" onclick=\"generateWithVariable('df_pred')\"\n",
              "            title=\"Generate code using this dataframe.\"\n",
              "            style=\"display:none;\">\n",
              "\n",
              "  <svg xmlns=\"http://www.w3.org/2000/svg\" height=\"24px\"viewBox=\"0 0 24 24\"\n",
              "       width=\"24px\">\n",
              "    <path d=\"M7,19H8.4L18.45,9,17,7.55,7,17.6ZM5,21V16.75L18.45,3.32a2,2,0,0,1,2.83,0l1.4,1.43a1.91,1.91,0,0,1,.58,1.4,1.91,1.91,0,0,1-.58,1.4L9.25,21ZM18.45,9,17,7.55Zm-12,3A5.31,5.31,0,0,0,4.9,8.1,5.31,5.31,0,0,0,1,6.5,5.31,5.31,0,0,0,4.9,4.9,5.31,5.31,0,0,0,6.5,1,5.31,5.31,0,0,0,8.1,4.9,5.31,5.31,0,0,0,12,6.5,5.46,5.46,0,0,0,6.5,12Z\"/>\n",
              "  </svg>\n",
              "    </button>\n",
              "    <script>\n",
              "      (() => {\n",
              "      const buttonEl =\n",
              "        document.querySelector('#id_64dad448-ac39-442f-ac80-cd5cbd708f8f button.colab-df-generate');\n",
              "      buttonEl.style.display =\n",
              "        google.colab.kernel.accessAllowed ? 'block' : 'none';\n",
              "\n",
              "      buttonEl.onclick = () => {\n",
              "        google.colab.notebook.generateWithVariable('df_pred');\n",
              "      }\n",
              "      })();\n",
              "    </script>\n",
              "  </div>\n",
              "\n",
              "    </div>\n",
              "  </div>\n"
            ],
            "application/vnd.google.colaboratory.intrinsic+json": {
              "type": "dataframe",
              "variable_name": "df_pred",
              "summary": "{\n  \"name\": \"df_pred\",\n  \"rows\": 238,\n  \"fields\": [\n    {\n      \"column\": 0,\n      \"properties\": {\n        \"dtype\": \"float32\",\n        \"num_unique_values\": 238,\n        \"samples\": [\n          0.1839970052242279,\n          0.13439038395881653,\n          0.6547704935073853\n        ],\n        \"semantic_type\": \"\",\n        \"description\": \"\"\n      }\n    },\n    {\n      \"column\": 0,\n      \"properties\": {\n        \"dtype\": \"number\",\n        \"std\": 0.12087017421084308,\n        \"min\": 0.6259704354349374,\n        \"max\": 1.0,\n        \"num_unique_values\": 36,\n        \"samples\": [\n          1.0,\n          0.7382981089808089,\n          0.9123369810892761\n        ],\n        \"semantic_type\": \"\",\n        \"description\": \"\"\n      }\n    },\n    {\n      \"column\": 1,\n      \"properties\": {\n        \"dtype\": \"number\",\n        \"std\": 0.11632670922986774,\n        \"min\": 0.6137845724022479,\n        \"max\": 1.0,\n        \"num_unique_values\": 37,\n        \"samples\": [\n          0.7068915941886196,\n          0.7233055326106494,\n          0.6385906285672731\n        ],\n        \"semantic_type\": \"\",\n        \"description\": \"\"\n      }\n    },\n    {\n      \"column\": 2,\n      \"properties\": {\n        \"dtype\": \"number\",\n        \"std\": 0.12072803615025882,\n        \"min\": 0.631465277764479,\n        \"max\": 1.0,\n        \"num_unique_values\": 37,\n        \"samples\": [\n          0.7796569759536877,\n          0.7578328342085786,\n          0.6332359846614247\n        ],\n        \"semantic_type\": \"\",\n        \"description\": \"\"\n      }\n    },\n    {\n      \"column\": 3,\n      \"properties\": {\n        \"dtype\": \"number\",\n        \"std\": 0.12116534886620627,\n        \"min\": 0.6302009340700575,\n        \"max\": 1.0,\n        \"num_unique_values\": 37,\n        \"samples\": [\n          0.7775350125663533,\n          0.7558372633218972,\n          0.6319615016477745\n        ],\n        \"semantic_type\": \"\",\n        \"description\": \"\"\n      }\n    }\n  ]\n}"
            }
          },
          "metadata": {},
          "execution_count": 94
        }
      ]
    },
    {
      "cell_type": "code",
      "source": [
        "rev_trans=scaler.inverse_transform(df_pred)\n",
        "rev_trans"
      ],
      "metadata": {
        "colab": {
          "base_uri": "https://localhost:8080/"
        },
        "id": "ttLmk5OJ6vai",
        "outputId": "de10a9ec-5a3b-4bf6-e482-b23a4ad3abb2"
      },
      "execution_count": null,
      "outputs": [
        {
          "output_type": "execute_result",
          "data": {
            "text/plain": [
              "array([[ 88.57277467, 140.311249  , 133.559464  , 134.046295  ,\n",
              "        133.808258  ],\n",
              "       [ 88.65318327, 134.413406  , 130.071823  , 132.92897   ,\n",
              "        132.692917  ],\n",
              "       [ 88.7679143 , 133.918594  , 130.830002  , 133.647247  ,\n",
              "        133.409927  ],\n",
              "       ...,\n",
              "       [148.90055206,          nan,          nan,          nan,\n",
              "                 nan],\n",
              "       [148.97725331,          nan,          nan,          nan,\n",
              "                 nan],\n",
              "       [149.22014061,          nan,          nan,          nan,\n",
              "                 nan]])"
            ]
          },
          "metadata": {},
          "execution_count": 95
        }
      ]
    },
    {
      "cell_type": "code",
      "source": [
        "df_final=df_input[predictions.shape[0]*-1:]"
      ],
      "metadata": {
        "id": "5jy4EUR4-i5V"
      },
      "execution_count": null,
      "outputs": []
    },
    {
      "cell_type": "code",
      "source": [
        "df_final.count()"
      ],
      "metadata": {
        "colab": {
          "base_uri": "https://localhost:8080/"
        },
        "id": "JQrN6jQj-jNH",
        "outputId": "b671d962-1f41-4d50-fa49-f1818d463945"
      },
      "execution_count": null,
      "outputs": [
        {
          "output_type": "execute_result",
          "data": {
            "text/plain": [
              "Open         238\n",
              "High         238\n",
              "Low          238\n",
              "Close        238\n",
              "Adj Close    238\n",
              "dtype: int64"
            ]
          },
          "metadata": {},
          "execution_count": 97
        }
      ]
    },
    {
      "cell_type": "code",
      "source": [
        "df_final['open_pred']=rev_trans[:,0]"
      ],
      "metadata": {
        "colab": {
          "base_uri": "https://localhost:8080/"
        },
        "id": "PYooZkn0-jQi",
        "outputId": "2f3caf4f-a6c7-4aa5-89c2-43639e3b0ef2"
      },
      "execution_count": null,
      "outputs": [
        {
          "output_type": "stream",
          "name": "stderr",
          "text": [
            "<ipython-input-98-7d646e04597d>:1: SettingWithCopyWarning: \n",
            "A value is trying to be set on a copy of a slice from a DataFrame.\n",
            "Try using .loc[row_indexer,col_indexer] = value instead\n",
            "\n",
            "See the caveats in the documentation: https://pandas.pydata.org/pandas-docs/stable/user_guide/indexing.html#returning-a-view-versus-a-copy\n",
            "  df_final['open_pred']=rev_trans[:,0]\n"
          ]
        }
      ]
    },
    {
      "cell_type": "code",
      "source": [
        "df_final"
      ],
      "metadata": {
        "colab": {
          "base_uri": "https://localhost:8080/",
          "height": 423
        },
        "id": "Eb3xGLcpSGLa",
        "outputId": "66d19b57-d9cf-4405-9d09-310536e328dc"
      },
      "execution_count": null,
      "outputs": [
        {
          "output_type": "execute_result",
          "data": {
            "text/plain": [
              "           Open        High         Low       Close   Adj Close   open_pred\n",
              "14    83.415802   84.421387   82.873108   83.208298   82.843674   88.572775\n",
              "15    83.080605   84.549080   83.080605   83.439743   83.074104   88.653183\n",
              "16    82.889069   83.112534   80.830009   81.165207   80.809540   88.767914\n",
              "17    80.830009   80.981644   79.736633   80.590584   80.237427   88.885692\n",
              "18    80.925781   81.476456   80.239426   81.021545   80.666496   89.081636\n",
              "..          ...         ...         ...         ...         ...         ...\n",
              "247  161.869995  162.339996  155.559998  159.190002  159.190002  148.507584\n",
              "248  158.089996  161.479996  157.119995  161.259995  161.259995  148.789134\n",
              "249  161.009995  163.369995  160.309998  162.350006  162.350006  148.900552\n",
              "250  163.000000  166.070007  163.000000  164.490005  164.490005  148.977253\n",
              "251  163.559998  166.259995  161.580002  161.820007  161.820007  149.220141\n",
              "\n",
              "[238 rows x 6 columns]"
            ],
            "text/html": [
              "\n",
              "  <div id=\"df-47a262d1-9581-4d41-ae27-ccb9cefa7504\" class=\"colab-df-container\">\n",
              "    <div>\n",
              "<style scoped>\n",
              "    .dataframe tbody tr th:only-of-type {\n",
              "        vertical-align: middle;\n",
              "    }\n",
              "\n",
              "    .dataframe tbody tr th {\n",
              "        vertical-align: top;\n",
              "    }\n",
              "\n",
              "    .dataframe thead th {\n",
              "        text-align: right;\n",
              "    }\n",
              "</style>\n",
              "<table border=\"1\" class=\"dataframe\">\n",
              "  <thead>\n",
              "    <tr style=\"text-align: right;\">\n",
              "      <th></th>\n",
              "      <th>Open</th>\n",
              "      <th>High</th>\n",
              "      <th>Low</th>\n",
              "      <th>Close</th>\n",
              "      <th>Adj Close</th>\n",
              "      <th>open_pred</th>\n",
              "    </tr>\n",
              "  </thead>\n",
              "  <tbody>\n",
              "    <tr>\n",
              "      <th>14</th>\n",
              "      <td>83.415802</td>\n",
              "      <td>84.421387</td>\n",
              "      <td>82.873108</td>\n",
              "      <td>83.208298</td>\n",
              "      <td>82.843674</td>\n",
              "      <td>88.572775</td>\n",
              "    </tr>\n",
              "    <tr>\n",
              "      <th>15</th>\n",
              "      <td>83.080605</td>\n",
              "      <td>84.549080</td>\n",
              "      <td>83.080605</td>\n",
              "      <td>83.439743</td>\n",
              "      <td>83.074104</td>\n",
              "      <td>88.653183</td>\n",
              "    </tr>\n",
              "    <tr>\n",
              "      <th>16</th>\n",
              "      <td>82.889069</td>\n",
              "      <td>83.112534</td>\n",
              "      <td>80.830009</td>\n",
              "      <td>81.165207</td>\n",
              "      <td>80.809540</td>\n",
              "      <td>88.767914</td>\n",
              "    </tr>\n",
              "    <tr>\n",
              "      <th>17</th>\n",
              "      <td>80.830009</td>\n",
              "      <td>80.981644</td>\n",
              "      <td>79.736633</td>\n",
              "      <td>80.590584</td>\n",
              "      <td>80.237427</td>\n",
              "      <td>88.885692</td>\n",
              "    </tr>\n",
              "    <tr>\n",
              "      <th>18</th>\n",
              "      <td>80.925781</td>\n",
              "      <td>81.476456</td>\n",
              "      <td>80.239426</td>\n",
              "      <td>81.021545</td>\n",
              "      <td>80.666496</td>\n",
              "      <td>89.081636</td>\n",
              "    </tr>\n",
              "    <tr>\n",
              "      <th>...</th>\n",
              "      <td>...</td>\n",
              "      <td>...</td>\n",
              "      <td>...</td>\n",
              "      <td>...</td>\n",
              "      <td>...</td>\n",
              "      <td>...</td>\n",
              "    </tr>\n",
              "    <tr>\n",
              "      <th>247</th>\n",
              "      <td>161.869995</td>\n",
              "      <td>162.339996</td>\n",
              "      <td>155.559998</td>\n",
              "      <td>159.190002</td>\n",
              "      <td>159.190002</td>\n",
              "      <td>148.507584</td>\n",
              "    </tr>\n",
              "    <tr>\n",
              "      <th>248</th>\n",
              "      <td>158.089996</td>\n",
              "      <td>161.479996</td>\n",
              "      <td>157.119995</td>\n",
              "      <td>161.259995</td>\n",
              "      <td>161.259995</td>\n",
              "      <td>148.789134</td>\n",
              "    </tr>\n",
              "    <tr>\n",
              "      <th>249</th>\n",
              "      <td>161.009995</td>\n",
              "      <td>163.369995</td>\n",
              "      <td>160.309998</td>\n",
              "      <td>162.350006</td>\n",
              "      <td>162.350006</td>\n",
              "      <td>148.900552</td>\n",
              "    </tr>\n",
              "    <tr>\n",
              "      <th>250</th>\n",
              "      <td>163.000000</td>\n",
              "      <td>166.070007</td>\n",
              "      <td>163.000000</td>\n",
              "      <td>164.490005</td>\n",
              "      <td>164.490005</td>\n",
              "      <td>148.977253</td>\n",
              "    </tr>\n",
              "    <tr>\n",
              "      <th>251</th>\n",
              "      <td>163.559998</td>\n",
              "      <td>166.259995</td>\n",
              "      <td>161.580002</td>\n",
              "      <td>161.820007</td>\n",
              "      <td>161.820007</td>\n",
              "      <td>149.220141</td>\n",
              "    </tr>\n",
              "  </tbody>\n",
              "</table>\n",
              "<p>238 rows × 6 columns</p>\n",
              "</div>\n",
              "    <div class=\"colab-df-buttons\">\n",
              "\n",
              "  <div class=\"colab-df-container\">\n",
              "    <button class=\"colab-df-convert\" onclick=\"convertToInteractive('df-47a262d1-9581-4d41-ae27-ccb9cefa7504')\"\n",
              "            title=\"Convert this dataframe to an interactive table.\"\n",
              "            style=\"display:none;\">\n",
              "\n",
              "  <svg xmlns=\"http://www.w3.org/2000/svg\" height=\"24px\" viewBox=\"0 -960 960 960\">\n",
              "    <path d=\"M120-120v-720h720v720H120Zm60-500h600v-160H180v160Zm220 220h160v-160H400v160Zm0 220h160v-160H400v160ZM180-400h160v-160H180v160Zm440 0h160v-160H620v160ZM180-180h160v-160H180v160Zm440 0h160v-160H620v160Z\"/>\n",
              "  </svg>\n",
              "    </button>\n",
              "\n",
              "  <style>\n",
              "    .colab-df-container {\n",
              "      display:flex;\n",
              "      gap: 12px;\n",
              "    }\n",
              "\n",
              "    .colab-df-convert {\n",
              "      background-color: #E8F0FE;\n",
              "      border: none;\n",
              "      border-radius: 50%;\n",
              "      cursor: pointer;\n",
              "      display: none;\n",
              "      fill: #1967D2;\n",
              "      height: 32px;\n",
              "      padding: 0 0 0 0;\n",
              "      width: 32px;\n",
              "    }\n",
              "\n",
              "    .colab-df-convert:hover {\n",
              "      background-color: #E2EBFA;\n",
              "      box-shadow: 0px 1px 2px rgba(60, 64, 67, 0.3), 0px 1px 3px 1px rgba(60, 64, 67, 0.15);\n",
              "      fill: #174EA6;\n",
              "    }\n",
              "\n",
              "    .colab-df-buttons div {\n",
              "      margin-bottom: 4px;\n",
              "    }\n",
              "\n",
              "    [theme=dark] .colab-df-convert {\n",
              "      background-color: #3B4455;\n",
              "      fill: #D2E3FC;\n",
              "    }\n",
              "\n",
              "    [theme=dark] .colab-df-convert:hover {\n",
              "      background-color: #434B5C;\n",
              "      box-shadow: 0px 1px 3px 1px rgba(0, 0, 0, 0.15);\n",
              "      filter: drop-shadow(0px 1px 2px rgba(0, 0, 0, 0.3));\n",
              "      fill: #FFFFFF;\n",
              "    }\n",
              "  </style>\n",
              "\n",
              "    <script>\n",
              "      const buttonEl =\n",
              "        document.querySelector('#df-47a262d1-9581-4d41-ae27-ccb9cefa7504 button.colab-df-convert');\n",
              "      buttonEl.style.display =\n",
              "        google.colab.kernel.accessAllowed ? 'block' : 'none';\n",
              "\n",
              "      async function convertToInteractive(key) {\n",
              "        const element = document.querySelector('#df-47a262d1-9581-4d41-ae27-ccb9cefa7504');\n",
              "        const dataTable =\n",
              "          await google.colab.kernel.invokeFunction('convertToInteractive',\n",
              "                                                    [key], {});\n",
              "        if (!dataTable) return;\n",
              "\n",
              "        const docLinkHtml = 'Like what you see? Visit the ' +\n",
              "          '<a target=\"_blank\" href=https://colab.research.google.com/notebooks/data_table.ipynb>data table notebook</a>'\n",
              "          + ' to learn more about interactive tables.';\n",
              "        element.innerHTML = '';\n",
              "        dataTable['output_type'] = 'display_data';\n",
              "        await google.colab.output.renderOutput(dataTable, element);\n",
              "        const docLink = document.createElement('div');\n",
              "        docLink.innerHTML = docLinkHtml;\n",
              "        element.appendChild(docLink);\n",
              "      }\n",
              "    </script>\n",
              "  </div>\n",
              "\n",
              "\n",
              "<div id=\"df-25cb2eb3-0f1a-41a5-ab87-413a2a9c5155\">\n",
              "  <button class=\"colab-df-quickchart\" onclick=\"quickchart('df-25cb2eb3-0f1a-41a5-ab87-413a2a9c5155')\"\n",
              "            title=\"Suggest charts\"\n",
              "            style=\"display:none;\">\n",
              "\n",
              "<svg xmlns=\"http://www.w3.org/2000/svg\" height=\"24px\"viewBox=\"0 0 24 24\"\n",
              "     width=\"24px\">\n",
              "    <g>\n",
              "        <path d=\"M19 3H5c-1.1 0-2 .9-2 2v14c0 1.1.9 2 2 2h14c1.1 0 2-.9 2-2V5c0-1.1-.9-2-2-2zM9 17H7v-7h2v7zm4 0h-2V7h2v10zm4 0h-2v-4h2v4z\"/>\n",
              "    </g>\n",
              "</svg>\n",
              "  </button>\n",
              "\n",
              "<style>\n",
              "  .colab-df-quickchart {\n",
              "      --bg-color: #E8F0FE;\n",
              "      --fill-color: #1967D2;\n",
              "      --hover-bg-color: #E2EBFA;\n",
              "      --hover-fill-color: #174EA6;\n",
              "      --disabled-fill-color: #AAA;\n",
              "      --disabled-bg-color: #DDD;\n",
              "  }\n",
              "\n",
              "  [theme=dark] .colab-df-quickchart {\n",
              "      --bg-color: #3B4455;\n",
              "      --fill-color: #D2E3FC;\n",
              "      --hover-bg-color: #434B5C;\n",
              "      --hover-fill-color: #FFFFFF;\n",
              "      --disabled-bg-color: #3B4455;\n",
              "      --disabled-fill-color: #666;\n",
              "  }\n",
              "\n",
              "  .colab-df-quickchart {\n",
              "    background-color: var(--bg-color);\n",
              "    border: none;\n",
              "    border-radius: 50%;\n",
              "    cursor: pointer;\n",
              "    display: none;\n",
              "    fill: var(--fill-color);\n",
              "    height: 32px;\n",
              "    padding: 0;\n",
              "    width: 32px;\n",
              "  }\n",
              "\n",
              "  .colab-df-quickchart:hover {\n",
              "    background-color: var(--hover-bg-color);\n",
              "    box-shadow: 0 1px 2px rgba(60, 64, 67, 0.3), 0 1px 3px 1px rgba(60, 64, 67, 0.15);\n",
              "    fill: var(--button-hover-fill-color);\n",
              "  }\n",
              "\n",
              "  .colab-df-quickchart-complete:disabled,\n",
              "  .colab-df-quickchart-complete:disabled:hover {\n",
              "    background-color: var(--disabled-bg-color);\n",
              "    fill: var(--disabled-fill-color);\n",
              "    box-shadow: none;\n",
              "  }\n",
              "\n",
              "  .colab-df-spinner {\n",
              "    border: 2px solid var(--fill-color);\n",
              "    border-color: transparent;\n",
              "    border-bottom-color: var(--fill-color);\n",
              "    animation:\n",
              "      spin 1s steps(1) infinite;\n",
              "  }\n",
              "\n",
              "  @keyframes spin {\n",
              "    0% {\n",
              "      border-color: transparent;\n",
              "      border-bottom-color: var(--fill-color);\n",
              "      border-left-color: var(--fill-color);\n",
              "    }\n",
              "    20% {\n",
              "      border-color: transparent;\n",
              "      border-left-color: var(--fill-color);\n",
              "      border-top-color: var(--fill-color);\n",
              "    }\n",
              "    30% {\n",
              "      border-color: transparent;\n",
              "      border-left-color: var(--fill-color);\n",
              "      border-top-color: var(--fill-color);\n",
              "      border-right-color: var(--fill-color);\n",
              "    }\n",
              "    40% {\n",
              "      border-color: transparent;\n",
              "      border-right-color: var(--fill-color);\n",
              "      border-top-color: var(--fill-color);\n",
              "    }\n",
              "    60% {\n",
              "      border-color: transparent;\n",
              "      border-right-color: var(--fill-color);\n",
              "    }\n",
              "    80% {\n",
              "      border-color: transparent;\n",
              "      border-right-color: var(--fill-color);\n",
              "      border-bottom-color: var(--fill-color);\n",
              "    }\n",
              "    90% {\n",
              "      border-color: transparent;\n",
              "      border-bottom-color: var(--fill-color);\n",
              "    }\n",
              "  }\n",
              "</style>\n",
              "\n",
              "  <script>\n",
              "    async function quickchart(key) {\n",
              "      const quickchartButtonEl =\n",
              "        document.querySelector('#' + key + ' button');\n",
              "      quickchartButtonEl.disabled = true;  // To prevent multiple clicks.\n",
              "      quickchartButtonEl.classList.add('colab-df-spinner');\n",
              "      try {\n",
              "        const charts = await google.colab.kernel.invokeFunction(\n",
              "            'suggestCharts', [key], {});\n",
              "      } catch (error) {\n",
              "        console.error('Error during call to suggestCharts:', error);\n",
              "      }\n",
              "      quickchartButtonEl.classList.remove('colab-df-spinner');\n",
              "      quickchartButtonEl.classList.add('colab-df-quickchart-complete');\n",
              "    }\n",
              "    (() => {\n",
              "      let quickchartButtonEl =\n",
              "        document.querySelector('#df-25cb2eb3-0f1a-41a5-ab87-413a2a9c5155 button');\n",
              "      quickchartButtonEl.style.display =\n",
              "        google.colab.kernel.accessAllowed ? 'block' : 'none';\n",
              "    })();\n",
              "  </script>\n",
              "</div>\n",
              "\n",
              "  <div id=\"id_883d7411-effa-4ddc-8c0e-29d7ad04142a\">\n",
              "    <style>\n",
              "      .colab-df-generate {\n",
              "        background-color: #E8F0FE;\n",
              "        border: none;\n",
              "        border-radius: 50%;\n",
              "        cursor: pointer;\n",
              "        display: none;\n",
              "        fill: #1967D2;\n",
              "        height: 32px;\n",
              "        padding: 0 0 0 0;\n",
              "        width: 32px;\n",
              "      }\n",
              "\n",
              "      .colab-df-generate:hover {\n",
              "        background-color: #E2EBFA;\n",
              "        box-shadow: 0px 1px 2px rgba(60, 64, 67, 0.3), 0px 1px 3px 1px rgba(60, 64, 67, 0.15);\n",
              "        fill: #174EA6;\n",
              "      }\n",
              "\n",
              "      [theme=dark] .colab-df-generate {\n",
              "        background-color: #3B4455;\n",
              "        fill: #D2E3FC;\n",
              "      }\n",
              "\n",
              "      [theme=dark] .colab-df-generate:hover {\n",
              "        background-color: #434B5C;\n",
              "        box-shadow: 0px 1px 3px 1px rgba(0, 0, 0, 0.15);\n",
              "        filter: drop-shadow(0px 1px 2px rgba(0, 0, 0, 0.3));\n",
              "        fill: #FFFFFF;\n",
              "      }\n",
              "    </style>\n",
              "    <button class=\"colab-df-generate\" onclick=\"generateWithVariable('df_final')\"\n",
              "            title=\"Generate code using this dataframe.\"\n",
              "            style=\"display:none;\">\n",
              "\n",
              "  <svg xmlns=\"http://www.w3.org/2000/svg\" height=\"24px\"viewBox=\"0 0 24 24\"\n",
              "       width=\"24px\">\n",
              "    <path d=\"M7,19H8.4L18.45,9,17,7.55,7,17.6ZM5,21V16.75L18.45,3.32a2,2,0,0,1,2.83,0l1.4,1.43a1.91,1.91,0,0,1,.58,1.4,1.91,1.91,0,0,1-.58,1.4L9.25,21ZM18.45,9,17,7.55Zm-12,3A5.31,5.31,0,0,0,4.9,8.1,5.31,5.31,0,0,0,1,6.5,5.31,5.31,0,0,0,4.9,4.9,5.31,5.31,0,0,0,6.5,1,5.31,5.31,0,0,0,8.1,4.9,5.31,5.31,0,0,0,12,6.5,5.46,5.46,0,0,0,6.5,12Z\"/>\n",
              "  </svg>\n",
              "    </button>\n",
              "    <script>\n",
              "      (() => {\n",
              "      const buttonEl =\n",
              "        document.querySelector('#id_883d7411-effa-4ddc-8c0e-29d7ad04142a button.colab-df-generate');\n",
              "      buttonEl.style.display =\n",
              "        google.colab.kernel.accessAllowed ? 'block' : 'none';\n",
              "\n",
              "      buttonEl.onclick = () => {\n",
              "        google.colab.notebook.generateWithVariable('df_final');\n",
              "      }\n",
              "      })();\n",
              "    </script>\n",
              "  </div>\n",
              "\n",
              "    </div>\n",
              "  </div>\n"
            ],
            "application/vnd.google.colaboratory.intrinsic+json": {
              "type": "dataframe",
              "variable_name": "df_final",
              "summary": "{\n  \"name\": \"df_final\",\n  \"rows\": 238,\n  \"fields\": [\n    {\n      \"column\": \"Open\",\n      \"properties\": {\n        \"dtype\": \"number\",\n        \"std\": 21.816206251110984,\n        \"min\": 80.774139,\n        \"max\": 163.559998,\n        \"num_unique_values\": 231,\n        \"samples\": [\n          155.899994,\n          89.824425,\n          84.197922\n        ],\n        \"semantic_type\": \"\",\n        \"description\": \"\"\n      }\n    },\n    {\n      \"column\": \"High\",\n      \"properties\": {\n        \"dtype\": \"number\",\n        \"std\": 22.416284432894184,\n        \"min\": 80.981644,\n        \"max\": 166.259995,\n        \"num_unique_values\": 234,\n        \"samples\": [\n          92.242615,\n          141.300873,\n          112.386276\n        ],\n        \"semantic_type\": \"\",\n        \"description\": \"\"\n      }\n    },\n    {\n      \"column\": \"Low\",\n      \"properties\": {\n        \"dtype\": \"number\",\n        \"std\": 21.34537725551733,\n        \"min\": 79.577019,\n        \"max\": 163.0,\n        \"num_unique_values\": 225,\n        \"samples\": [\n          83.431763,\n          126.560257,\n          95.514763\n        ],\n        \"semantic_type\": \"\",\n        \"description\": \"\"\n      }\n    },\n    {\n      \"column\": \"Close\",\n      \"properties\": {\n        \"dtype\": \"number\",\n        \"std\": 22.000692699545688,\n        \"min\": 80.590584,\n        \"max\": 164.490005,\n        \"num_unique_values\": 228,\n        \"samples\": [\n          154.630005,\n          90.949722,\n          84.437347\n        ],\n        \"semantic_type\": \"\",\n        \"description\": \"\"\n      }\n    },\n    {\n      \"column\": \"Adj Close\",\n      \"properties\": {\n        \"dtype\": \"number\",\n        \"std\": 22.055563624551603,\n        \"min\": 80.237427,\n        \"max\": 164.490005,\n        \"num_unique_values\": 232,\n        \"samples\": [\n          154.630005,\n          90.635094,\n          84.067337\n        ],\n        \"semantic_type\": \"\",\n        \"description\": \"\"\n      }\n    },\n    {\n      \"column\": \"open_pred\",\n      \"properties\": {\n        \"dtype\": \"number\",\n        \"std\": 16.106838075208962,\n        \"min\": 88.57277467061007,\n        \"max\": 149.22014060728299,\n        \"num_unique_values\": 238,\n        \"samples\": [\n          94.65842688745276,\n          90.4697484577723,\n          134.4095469060223\n        ],\n        \"semantic_type\": \"\",\n        \"description\": \"\"\n      }\n    }\n  ]\n}"
            }
          },
          "metadata": {},
          "execution_count": 99
        }
      ]
    },
    {
      "cell_type": "code",
      "source": [
        "df_final[['Open','open_pred']].plot()"
      ],
      "metadata": {
        "id": "EJAJX1TtTBa_",
        "colab": {
          "base_uri": "https://localhost:8080/",
          "height": 447
        },
        "outputId": "bd673b96-4849-4864-d8f3-c056b339fe45"
      },
      "execution_count": null,
      "outputs": [
        {
          "output_type": "execute_result",
          "data": {
            "text/plain": [
              "<Axes: >"
            ]
          },
          "metadata": {},
          "execution_count": 100
        },
        {
          "output_type": "display_data",
          "data": {
            "text/plain": [
              "<Figure size 640x480 with 1 Axes>"
            ],
            "image/png": "[encoded data removed]"
          },
          "metadata": {}
        }
      ]
    },
    {
      "cell_type": "code",
      "source": [
        "# Assuming you've already trained your model and have your test_generator ready\n",
        "mse, mae = model.evaluate(test_generator, verbose=0)\n",
        "print(\"Test MSE:\", mse)\n",
        "print(\"Test MAE:\", mae)\n"
      ],
      "metadata": {
        "colab": {
          "base_uri": "https://localhost:8080/"
        },
        "id": "qfo1fiDrmvZM",
        "outputId": "6ec14b40-1bb5-48f4-86ed-a315af014064"
      },
      "execution_count": null,
      "outputs": [
        {
          "output_type": "stream",
          "name": "stdout",
          "text": [
            "Test MSE: 0.0008756145252846181\n",
            "Test MAE: 0.02258354425430298\n"
          ]
        }
      ]
    },
    {
      "cell_type": "code",
      "source": [
        "from sklearn.metrics import r2_score\n",
        "\n",
        "# You need the actual and predicted values as arrays to compute R² score\n",
        "# Let's assume you have these values in actuals and predictions variables\n",
        "# You can obtain these by comparing indices in your test set or using your earlier defined DataFrame\n",
        "actuals = df_final['Open'].values\n",
        "predictions = df_final['open_pred'].values\n",
        "\n",
        "# Compute R² score\n",
        "r2 = r2_score(actuals, predictions)\n",
        "print(\"Test R² score:\", r2)\n"
      ],
      "metadata": {
        "colab": {
          "base_uri": "https://localhost:8080/"
        },
        "id": "H_zvHvyTmvbx",
        "outputId": "7c0881fb-4731-4d95-cc64-f79534c198d8"
      },
      "execution_count": null,
      "outputs": [
        {
          "output_type": "stream",
          "name": "stdout",
          "text": [
            "Test R² score: 0.8989323711631869\n"
          ]
        }
      ]
    },
    {
      "cell_type": "code",
      "source": [
        "import numpy as np\n",
        "model.compile(loss=tf.losses.MeanSquaredError(), optimizer=tf.optimizers.Adam(), metrics=[tf.metrics.MeanAbsoluteError()])\n",
        "\n",
        "# After training, evaluate the model on the test set\n",
        "test_loss, test_mae = model.evaluate(test_generator, verbose=0)\n",
        "print(\"Test MSE:\", test_loss)\n",
        "print(\"Test MAE:\", test_mae)\n",
        "\n",
        "# Optionally, calculate RMSE\n",
        "test_rmse = np.sqrt(test_loss)\n",
        "print(\"Test RMSE:\", test_rmse)\n"
      ],
      "metadata": {
        "colab": {
          "base_uri": "https://localhost:8080/"
        },
        "id": "0BuG4iJBmveW",
        "outputId": "c6376547-d924-4836-8cd2-8fbaf801073d"
      },
      "execution_count": null,
      "outputs": [
        {
          "output_type": "stream",
          "name": "stdout",
          "text": [
            "Test MSE: 0.0008756145252846181\n",
            "Test MAE: 0.02258354425430298\n",
            "Test RMSE: 0.029590784465515916\n"
          ]
        }
      ]
    }
  ]
}